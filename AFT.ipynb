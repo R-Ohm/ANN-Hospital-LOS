{
 "cells": [
  {
   "cell_type": "code",
   "execution_count": 1,
   "id": "3ee95f3f-2e66-4a32-b2c8-f2e0fbd873ac",
   "metadata": {},
   "outputs": [
    {
     "name": "stdout",
     "output_type": "stream",
     "text": [
      "Requirement already satisfied: pandas in /opt/miniconda3/lib/python3.9/site-packages (2.2.3)\n",
      "Requirement already satisfied: python-dateutil>=2.8.2 in /opt/miniconda3/lib/python3.9/site-packages (from pandas) (2.8.2)\n",
      "Requirement already satisfied: tzdata>=2022.7 in /opt/miniconda3/lib/python3.9/site-packages (from pandas) (2024.2)\n",
      "Requirement already satisfied: numpy>=1.22.4 in /opt/miniconda3/lib/python3.9/site-packages (from pandas) (1.25.2)\n",
      "Requirement already satisfied: pytz>=2020.1 in /opt/miniconda3/lib/python3.9/site-packages (from pandas) (2024.2)\n",
      "Requirement already satisfied: six>=1.5 in /opt/miniconda3/lib/python3.9/site-packages (from python-dateutil>=2.8.2->pandas) (1.16.0)\n",
      "Requirement already satisfied: numpy in /opt/miniconda3/lib/python3.9/site-packages (1.25.2)\n",
      "Requirement already satisfied: lifelines in /opt/miniconda3/lib/python3.9/site-packages (0.29.0)\n",
      "Requirement already satisfied: formulaic>=0.2.2 in /opt/miniconda3/lib/python3.9/site-packages (from lifelines) (1.0.2)\n",
      "Requirement already satisfied: scipy>=1.7.0 in /opt/miniconda3/lib/python3.9/site-packages (from lifelines) (1.13.0)\n",
      "Requirement already satisfied: numpy<2.0,>=1.14.0 in /opt/miniconda3/lib/python3.9/site-packages (from lifelines) (1.25.2)\n",
      "Requirement already satisfied: autograd-gamma>=0.3 in /opt/miniconda3/lib/python3.9/site-packages (from lifelines) (0.5.0)\n",
      "Requirement already satisfied: autograd>=1.5 in /opt/miniconda3/lib/python3.9/site-packages (from lifelines) (1.7.0)\n",
      "Requirement already satisfied: pandas>=2.1 in /opt/miniconda3/lib/python3.9/site-packages (from lifelines) (2.2.3)\n",
      "Requirement already satisfied: matplotlib>=3.0 in /opt/miniconda3/lib/python3.9/site-packages (from lifelines) (3.7.2)\n",
      "Requirement already satisfied: wrapt>=1.0 in /opt/miniconda3/lib/python3.9/site-packages (from formulaic>=0.2.2->lifelines) (1.16.0)\n",
      "Requirement already satisfied: interface-meta>=1.2.0 in /opt/miniconda3/lib/python3.9/site-packages (from formulaic>=0.2.2->lifelines) (1.3.0)\n",
      "Requirement already satisfied: typing-extensions>=4.2.0 in /opt/miniconda3/lib/python3.9/site-packages (from formulaic>=0.2.2->lifelines) (4.11.0)\n",
      "Requirement already satisfied: python-dateutil>=2.7 in /opt/miniconda3/lib/python3.9/site-packages (from matplotlib>=3.0->lifelines) (2.8.2)\n",
      "Requirement already satisfied: importlib-resources>=3.2.0 in /opt/miniconda3/lib/python3.9/site-packages (from matplotlib>=3.0->lifelines) (6.0.1)\n",
      "Requirement already satisfied: pillow>=6.2.0 in /opt/miniconda3/lib/python3.9/site-packages (from matplotlib>=3.0->lifelines) (10.0.0)\n",
      "Requirement already satisfied: packaging>=20.0 in /opt/miniconda3/lib/python3.9/site-packages (from matplotlib>=3.0->lifelines) (23.1)\n",
      "Requirement already satisfied: pyparsing<3.1,>=2.3.1 in /opt/miniconda3/lib/python3.9/site-packages (from matplotlib>=3.0->lifelines) (3.0.9)\n",
      "Requirement already satisfied: fonttools>=4.22.0 in /opt/miniconda3/lib/python3.9/site-packages (from matplotlib>=3.0->lifelines) (4.42.1)\n",
      "Requirement already satisfied: contourpy>=1.0.1 in /opt/miniconda3/lib/python3.9/site-packages (from matplotlib>=3.0->lifelines) (1.1.0)\n",
      "Requirement already satisfied: kiwisolver>=1.0.1 in /opt/miniconda3/lib/python3.9/site-packages (from matplotlib>=3.0->lifelines) (1.4.5)\n",
      "Requirement already satisfied: cycler>=0.10 in /opt/miniconda3/lib/python3.9/site-packages (from matplotlib>=3.0->lifelines) (0.11.0)\n",
      "Requirement already satisfied: zipp>=3.1.0 in /opt/miniconda3/lib/python3.9/site-packages (from importlib-resources>=3.2.0->matplotlib>=3.0->lifelines) (3.16.2)\n",
      "Requirement already satisfied: pytz>=2020.1 in /opt/miniconda3/lib/python3.9/site-packages (from pandas>=2.1->lifelines) (2024.2)\n",
      "Requirement already satisfied: tzdata>=2022.7 in /opt/miniconda3/lib/python3.9/site-packages (from pandas>=2.1->lifelines) (2024.2)\n",
      "Requirement already satisfied: six>=1.5 in /opt/miniconda3/lib/python3.9/site-packages (from python-dateutil>=2.7->matplotlib>=3.0->lifelines) (1.16.0)\n"
     ]
    }
   ],
   "source": [
    "!pip install pandas\n",
    "!pip install numpy\n",
    "!pip install lifelines"
   ]
  },
  {
   "cell_type": "code",
   "execution_count": 2,
   "id": "fe059a74-e5bc-476c-9599-cc8b976b169c",
   "metadata": {},
   "outputs": [
    {
     "ename": "ImportError",
     "evalue": "cannot import name 'ExponentialAFTFitter' from 'lifelines' (/opt/miniconda3/lib/python3.9/site-packages/lifelines/__init__.py)",
     "output_type": "error",
     "traceback": [
      "\u001b[0;31m---------------------------------------------------------------------------\u001b[0m",
      "\u001b[0;31mImportError\u001b[0m                               Traceback (most recent call last)",
      "Cell \u001b[0;32mIn[2], line 4\u001b[0m\n\u001b[1;32m      2\u001b[0m \u001b[38;5;28;01mimport\u001b[39;00m \u001b[38;5;21;01mnumpy\u001b[39;00m \u001b[38;5;28;01mas\u001b[39;00m \u001b[38;5;21;01mnp\u001b[39;00m\n\u001b[1;32m      3\u001b[0m \u001b[38;5;28;01mimport\u001b[39;00m \u001b[38;5;21;01mmatplotlib\u001b[39;00m\u001b[38;5;21;01m.\u001b[39;00m\u001b[38;5;21;01mpyplot\u001b[39;00m \u001b[38;5;28;01mas\u001b[39;00m \u001b[38;5;21;01mplt\u001b[39;00m\n\u001b[0;32m----> 4\u001b[0m \u001b[38;5;28;01mfrom\u001b[39;00m \u001b[38;5;21;01mlifelines\u001b[39;00m \u001b[38;5;28;01mimport\u001b[39;00m ExponentialAFTFitter\n\u001b[1;32m      5\u001b[0m \u001b[38;5;28;01mfrom\u001b[39;00m \u001b[38;5;21;01mlifelines\u001b[39;00m\u001b[38;5;21;01m.\u001b[39;00m\u001b[38;5;21;01mutils\u001b[39;00m \u001b[38;5;28;01mimport\u001b[39;00m concordance_index\n\u001b[1;32m      7\u001b[0m \u001b[38;5;66;03m# Load your dataset\u001b[39;00m\n",
      "\u001b[0;31mImportError\u001b[0m: cannot import name 'ExponentialAFTFitter' from 'lifelines' (/opt/miniconda3/lib/python3.9/site-packages/lifelines/__init__.py)"
     ]
    }
   ],
   "source": [
    "import pandas as pd\n",
    "import numpy as np\n",
    "import matplotlib.pyplot as plt\n",
    "from lifelines import ExponentialAFTFitter\n",
    "from lifelines.utils import concordance_index\n",
    "\n",
    "# Load your dataset\n",
    "data = pd.read_csv('/data/Recurrence free survival in breast cancer patients.csv')\n",
    "\n",
    "# Instantiate the ExponentialAFTFitter\n",
    "exp_aft_fitter = ExponentialAFTFitter()\n",
    "exp_aft_fitter.fit(data, duration_col='time', event_col='status')\n",
    "\n",
    "# Display the model summary\n",
    "exp_aft_fitter.print_summary()\n",
    "\n",
    "# Calculate the cumulative hazard only at the last observed time for each individual\n",
    "predicted_hazards = exp_aft_fitter.predict_cumulative_hazard(data).iloc[:, -1]  # Select last column only\n",
    "\n",
    "# Check for and filter out NaNs from predicted_hazards (if any)\n",
    "valid_idx = ~np.isnan(predicted_hazards)\n",
    "cleaned_times = data['time'][valid_idx]\n",
    "cleaned_status = data['status'][valid_idx]\n",
    "cleaned_hazards = predicted_hazards[valid_idx]\n",
    "\n",
    "# Calculate the C-index for model evaluation\n",
    "c_index = concordance_index(cleaned_times, -cleaned_hazards, cleaned_status)\n",
    "print(f\"C-index: {c_index}\")\n",
    "\n",
    "# Generate time points for plotting\n",
    "time_points = np.linspace(0, data['time'].max(), 100)\n",
    "\n",
    "# Predict survival function for a single observation (e.g., the first row of the dataset)\n",
    "survival_probs = exp_aft_fitter.predict_survival_function(data.iloc[0:1], times=time_points)\n",
    "\n",
    "# Plot the Survival Function\n",
    "plt.figure(figsize=(10, 6))\n",
    "plt.plot(time_points, survival_probs.iloc[:, 0], label='Exponential AFT Survival Function')\n",
    "plt.title('Survival Function (Exponential AFT Model)')\n",
    "plt.xlabel('Time')\n",
    "plt.ylabel('Survival Probability')\n",
    "plt.grid(True)\n",
    "plt.legend()\n",
    "plt.show()\n",
    "\n",
    "# Predict cumulative hazard function for a single observation (e.g., the first row of the dataset)\n",
    "cumulative_hazards = exp_aft_fitter.predict_cumulative_hazard(data.iloc[0:1], times=time_points)\n",
    "\n",
    "# Plot the Cumulative Hazard Function\n",
    "plt.figure(figsize=(10, 6))\n",
    "plt.plot(time_points, cumulative_hazards.iloc[:, 0], label=\"Exponential AFT Cumulative Hazard Function\")\n",
    "plt.title(\"Cumulative Hazard Function (Exponential AFT Model)\")\n",
    "plt.xlabel(\"Time\")\n",
    "plt.ylabel(\"Cumulative Hazard\")\n",
    "plt.grid(True)\n",
    "plt.legend()\n",
    "plt.show()"
   ]
  }
 ],
 "metadata": {
  "kernelspec": {
   "display_name": "Python 3 (ipykernel)",
   "language": "python",
   "name": "python3"
  },
  "language_info": {
   "codemirror_mode": {
    "name": "ipython",
    "version": 3
   },
   "file_extension": ".py",
   "mimetype": "text/x-python",
   "name": "python",
   "nbconvert_exporter": "python",
   "pygments_lexer": "ipython3",
   "version": "3.9.18"
  }
 },
 "nbformat": 4,
 "nbformat_minor": 5
}
