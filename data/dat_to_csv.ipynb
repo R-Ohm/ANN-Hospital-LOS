{
 "cells": [
  {
   "cell_type": "code",
   "execution_count": 2,
   "id": "d89586bb-b2e7-40c8-bab4-e34b78ae465f",
   "metadata": {},
   "outputs": [],
   "source": [
    "import csv\n",
    "\n",
    "# Open the .dat file in read mode (Change the input name)\n",
    "with open('data/more_data/Recurrence of an ulcer', 'r') as dat_file:\n",
    "    # Open the CSV file in write mode\n",
    "    with open('data/Clinical trial of tamoxifen in breast cancer patients.csv', 'w', newline='') as csv_file:\n",
    "        csv_writer = csv.writer(csv_file)\n",
    "        \n",
    "        # Iterate through each line in the .dat file (Change the output name)\n",
    "        for line in dat_file:\n",
    "            # Split the line by the delimiter (e.g., space, tab, or comma)\n",
    "            # Modify the delimiter based on the actual content of your .dat file\n",
    "            row = line.strip().split()  # Assuming space is the delimiter\n",
    "            \n",
    "            # Write the row to the CSV file\n",
    "            csv_writer.writerow(row)"
   ]
  }
 ],
 "metadata": {
  "kernelspec": {
   "display_name": "Python 3 (ipykernel)",
   "language": "python",
   "name": "python3"
  },
  "language_info": {
   "codemirror_mode": {
    "name": "ipython",
    "version": 3
   },
   "file_extension": ".py",
   "mimetype": "text/x-python",
   "name": "python",
   "nbconvert_exporter": "python",
   "pygments_lexer": "ipython3",
   "version": "3.9.18"
  }
 },
 "nbformat": 4,
 "nbformat_minor": 5
}
