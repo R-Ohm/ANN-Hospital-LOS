{
 "cells": [
  {
   "cell_type": "markdown",
   "metadata": {},
   "source": [
    "# Weibull model with covariates"
   ]
  },
  {
   "cell_type": "code",
   "execution_count": 2,
   "metadata": {},
   "outputs": [],
   "source": [
    "import numpy as np\n",
    "import pandas as pd\n",
    "\n",
    "import pymc as pm\n",
    "import arviz as az\n",
    "import pytensor.tensor as pt\n",
    "\n",
    "import matplotlib as mpl\n",
    "import matplotlib.pyplot as plt\n",
    "\n",
    "from sklearn.preprocessing import MinMaxScaler\n",
    "from lifelines import KaplanMeierFitter, WeibullAFTFitter\n",
    "\n",
    "from lifelines.utils import concordance_index\n",
    "from sklearn.metrics import root_mean_squared_error\n",
    "\n",
    "from xarray import open_dataset # To read the trace of an already trained Bayesian model\n",
    "\n",
    "import warnings\n",
    "warnings.filterwarnings('ignore')"
   ]
  },
  {
   "cell_type": "code",
   "execution_count": 3,
   "metadata": {},
   "outputs": [],
   "source": [
    "ALPHA = 0.05 # Significance level\n",
    "TRAIN = True # Train the Bayesian model? Training it is taking too much time\n",
    "\n",
    "CONTINUOUS_VARIABLES = [\n",
    "    \"age\",\n",
    "    \"size\",\n",
    "    \"nodes\",\n",
    "    \"prog\",\n",
    "    \"oest\"\n",
    "]\n",
    "\n",
    "CATEGORICAL_VARIABLES = [\n",
    "    \"treat\",\n",
    "    \"men\",\n",
    "    \"grade\"\n",
    "]\n",
    "\n",
    "PREDS = [\n",
    "    \"age\",\n",
    "    \"size\",\n",
    "    \"nodes\",\n",
    "    \"prog\",\n",
    "    \"oest\",\n",
    "    \"treat_1\",\n",
    "    \"men_2\",\n",
    "    \"grade_2\",\n",
    "    \"grade_3\"\n",
    "]"
   ]
  },
  {
   "cell_type": "code",
   "execution_count": 4,
   "metadata": {},
   "outputs": [],
   "source": [
    "DatOriginal = pd.read_csv('data/Recurrence free survival in breast cancer patients.csv')"
   ]
  },
  {
   "cell_type": "markdown",
   "metadata": {},
   "source": [
    "## Preprocessing the data"
   ]
  },
  {
   "cell_type": "markdown",
   "metadata": {},
   "source": [
    "Apply MinMaxScaler into continuous variables"
   ]
  },
  {
   "cell_type": "code",
   "execution_count": 5,
   "metadata": {},
   "outputs": [],
   "source": [
    "scaler = MinMaxScaler()\n",
    "\n",
    "DatOriginal[CONTINUOUS_VARIABLES] = scaler.fit_transform(DatOriginal[CONTINUOUS_VARIABLES])"
   ]
  },
  {
   "cell_type": "markdown",
   "metadata": {},
   "source": [
    "Get dummies for categorical variables"
   ]
  },
  {
   "cell_type": "code",
   "execution_count": 6,
   "metadata": {},
   "outputs": [],
   "source": [
    "DatOriginal = pd.get_dummies(DatOriginal, columns=CATEGORICAL_VARIABLES, drop_first=True)"
   ]
  },
  {
   "cell_type": "markdown",
   "metadata": {},
   "source": [
    "## Split the data into training and testing"
   ]
  },
  {
   "cell_type": "code",
   "execution_count": 7,
   "metadata": {},
   "outputs": [],
   "source": [
    "DatOriginal = DatOriginal.sort_values(\"status\").reset_index(drop=True)"
   ]
  },
  {
   "cell_type": "code",
   "execution_count": 8,
   "metadata": {},
   "outputs": [],
   "source": [
    "DatTraining = DatOriginal.iloc[:-75] \n",
    "DatTesting = DatOriginal.iloc[-75:]"
   ]
  },
  {
   "cell_type": "markdown",
   "metadata": {},
   "source": [
    "---"
   ]
  },
  {
   "cell_type": "code",
   "execution_count": 9,
   "metadata": {},
   "outputs": [],
   "source": [
    "# Weibull log-survivor function\n",
    "def WeibullLogSurvivor(t, alpha, beta):\n",
    "    return -((t/beta)**alpha)\n",
    "\n",
    "# Weibull survivor function\n",
    "def WeibullSurvivor(t, alpha, beta):\n",
    "    return np.exp(WeibullLogSurvivor(t, alpha, beta))\n",
    "\n",
    "# Time quantile\n",
    "def TimeQuantile(p, alpha, beta):\n",
    "    return beta * (-np.log(1-p))**(1/alpha)"
   ]
  },
  {
   "cell_type": "markdown",
   "metadata": {},
   "source": [
    "## Fit the Weibull AFT model using Bayesian approach\n",
    "\n",
    "$$\n",
    "\\begin{align*}\n",
    "T|\\alpha,\\beta &\\sim \\text{Weibull}(\\alpha,\\beta) \\\\\n",
    "\\alpha|\\mu_\\alpha &= \\exp\\{\\mu_\\alpha\\} \\\\\n",
    "\\mu_\\alpha &\\sim \\textsf{Normal}(0,1) \\\\\n",
    "\\beta|\\mu_\\beta,\\vec{\\zeta} &= \\exp\\{\\mu_\\beta+\\vec{\\zeta}^T\\vec{X}\\} \\\\\n",
    "\\mu_\\beta &\\sim \\textsf{Normal}(0,1) \\\\\n",
    "\\zeta_j &\\sim \\textsf{Normal}(0,1)\n",
    "\\end{align*}\n",
    "$$"
   ]
  },
  {
   "cell_type": "code",
   "execution_count": 10,
   "metadata": {},
   "outputs": [],
   "source": [
    "XTraining = DatTraining[PREDS]\n",
    "XTesting = DatTesting[PREDS]\n",
    "\n",
    "coords = {\"preds\": PREDS}\n",
    "\n",
    "y = DatTraining[\"time\"].values\n",
    "cens = (DatTraining[\"status\"]==0).values"
   ]
  },
  {
   "cell_type": "code",
   "execution_count": 11,
   "metadata": {},
   "outputs": [],
   "source": [
    "with pm.Model(coords=coords, check_bounds=False) as WeibullAFTBayesian:\n",
    "    X_data = pm.Data(\"X_data_obs\", XTraining)\n",
    "\n",
    "    # Regression\n",
    "    MuBeta = pm.Normal(\"MuBeta\", 0, 1)\n",
    "    Zeta = pm.Normal(\"Zeta\", 0, 1, dims=\"preds\")\n",
    "\n",
    "    # Weibull parameters\n",
    "    MuAlpha = pm.Normal(\"MuAlpha\", 0, 1)\n",
    "    Alpha = pm.Deterministic(\"Alpha\", np.exp(MuAlpha))\n",
    "    Beta = pm.Deterministic(\"Beta\", np.exp(MuBeta + pm.math.dot(Zeta, X_data.T)))\n",
    "\n",
    "    # Time quantile\n",
    "    #MedianTime = pm.Deterministic(\"MedianTime\", TimeQuantile(0.5, Alpha, Beta))\n",
    "\n",
    "    # Log-likelihood\n",
    "    Logdensity = pm.Weibull(\"TimesObserved\", Alpha, Beta[~cens], observed=y[~cens])\n",
    "    Logsurvivor = pm.Potential(\"TimesCensored\", WeibullLogSurvivor(y[cens], Alpha, Beta[cens]))"
   ]
  },
  {
   "cell_type": "code",
   "execution_count": 12,
   "metadata": {},
   "outputs": [
    {
     "data": {
      "image/svg+xml": [
       "<?xml version=\"1.0\" encoding=\"UTF-8\" standalone=\"no\"?>\n",
       "<!DOCTYPE svg PUBLIC \"-//W3C//DTD SVG 1.1//EN\"\n",
       " \"http://www.w3.org/Graphics/SVG/1.1/DTD/svg11.dtd\">\n",
       "<!-- Generated by graphviz version 2.50.0 (0)\n",
       " -->\n",
       "<!-- Pages: 1 -->\n",
       "<svg width=\"450pt\" height=\"366pt\"\n",
       " viewBox=\"0.00 0.00 450.00 366.08\" xmlns=\"http://www.w3.org/2000/svg\" xmlns:xlink=\"http://www.w3.org/1999/xlink\">\n",
       "<g id=\"graph0\" class=\"graph\" transform=\"scale(1 1) rotate(0) translate(4 362.08)\">\n",
       "<polygon fill=\"white\" stroke=\"transparent\" points=\"-4,4 -4,-362.08 446,-362.08 446,4 -4,4\"/>\n",
       "<g id=\"clust4\" class=\"cluster\">\n",
       "<title>cluster224</title>\n",
       "<path fill=\"none\" stroke=\"black\" d=\"M20,-11.09C20,-11.09 158,-11.09 158,-11.09 164,-11.09 170,-17.09 170,-23.09 170,-23.09 170,-113.04 170,-113.04 170,-119.04 164,-125.04 158,-125.04 158,-125.04 20,-125.04 20,-125.04 14,-125.04 8,-119.04 8,-113.04 8,-113.04 8,-23.09 8,-23.09 8,-17.09 14,-11.09 20,-11.09\"/>\n",
       "<text text-anchor=\"middle\" x=\"151.5\" y=\"-18.89\" font-family=\"Times New Roman,serif\" font-size=\"14.00\">224</text>\n",
       "</g>\n",
       "<g id=\"clust1\" class=\"cluster\">\n",
       "<title>cluster611 x 9</title>\n",
       "<path fill=\"none\" stroke=\"black\" d=\"M142,-247.11C142,-247.11 216,-247.11 216,-247.11 222,-247.11 228,-253.11 228,-259.11 228,-259.11 228,-327.11 228,-327.11 228,-333.11 222,-339.11 216,-339.11 216,-339.11 142,-339.11 142,-339.11 136,-339.11 130,-333.11 130,-327.11 130,-327.11 130,-259.11 130,-259.11 130,-253.11 136,-247.11 142,-247.11\"/>\n",
       "<text text-anchor=\"middle\" x=\"199\" y=\"-254.91\" font-family=\"Times New Roman,serif\" font-size=\"14.00\">611 x 9</text>\n",
       "</g>\n",
       "<g id=\"clust3\" class=\"cluster\">\n",
       "<title>cluster611</title>\n",
       "<path fill=\"none\" stroke=\"black\" d=\"M222,-136.13C222,-136.13 306,-136.13 306,-136.13 312,-136.13 318,-142.13 318,-148.13 318,-148.13 318,-216.13 318,-216.13 318,-222.13 312,-228.13 306,-228.13 306,-228.13 222,-228.13 222,-228.13 216,-228.13 210,-222.13 210,-216.13 210,-216.13 210,-148.13 210,-148.13 210,-142.13 216,-136.13 222,-136.13\"/>\n",
       "<text text-anchor=\"middle\" x=\"299.5\" y=\"-143.93\" font-family=\"Times New Roman,serif\" font-size=\"14.00\">611</text>\n",
       "</g>\n",
       "<g id=\"clust2\" class=\"cluster\">\n",
       "<title>clusterpreds (9)</title>\n",
       "<path fill=\"none\" stroke=\"black\" d=\"M346,-236.13C346,-236.13 422,-236.13 422,-236.13 428,-236.13 434,-242.13 434,-248.13 434,-248.13 434,-338.08 434,-338.08 434,-344.08 428,-350.08 422,-350.08 422,-350.08 346,-350.08 346,-350.08 340,-350.08 334,-344.08 334,-338.08 334,-338.08 334,-248.13 334,-248.13 334,-242.13 340,-236.13 346,-236.13\"/>\n",
       "<text text-anchor=\"middle\" x=\"401.5\" y=\"-243.93\" font-family=\"Times New Roman,serif\" font-size=\"14.00\">preds (9)</text>\n",
       "</g>\n",
       "<g id=\"clust5\" class=\"cluster\">\n",
       "<title>cluster387</title>\n",
       "<path fill=\"none\" stroke=\"black\" d=\"M190,-8C190,-8 338,-8 338,-8 344,-8 350,-14 350,-20 350,-20 350,-116.13 350,-116.13 350,-122.13 344,-128.13 338,-128.13 338,-128.13 190,-128.13 190,-128.13 184,-128.13 178,-122.13 178,-116.13 178,-116.13 178,-20 178,-20 178,-14 184,-8 190,-8\"/>\n",
       "<text text-anchor=\"middle\" x=\"331.5\" y=\"-15.8\" font-family=\"Times New Roman,serif\" font-size=\"14.00\">387</text>\n",
       "</g>\n",
       "<!-- X_data_obs -->\n",
       "<g id=\"node1\" class=\"node\">\n",
       "<title>X_data_obs</title>\n",
       "<path fill=\"lightgrey\" stroke=\"black\" d=\"M207.5,-331.11C207.5,-331.11 150.5,-331.11 150.5,-331.11 144.5,-331.11 138.5,-325.11 138.5,-319.11 138.5,-319.11 138.5,-290.11 138.5,-290.11 138.5,-284.11 144.5,-278.11 150.5,-278.11 150.5,-278.11 207.5,-278.11 207.5,-278.11 213.5,-278.11 219.5,-284.11 219.5,-290.11 219.5,-290.11 219.5,-319.11 219.5,-319.11 219.5,-325.11 213.5,-331.11 207.5,-331.11\"/>\n",
       "<text text-anchor=\"middle\" x=\"179\" y=\"-315.91\" font-family=\"Times New Roman,serif\" font-size=\"14.00\">X_data_obs</text>\n",
       "<text text-anchor=\"middle\" x=\"179\" y=\"-300.91\" font-family=\"Times New Roman,serif\" font-size=\"14.00\">~</text>\n",
       "<text text-anchor=\"middle\" x=\"179\" y=\"-285.91\" font-family=\"Times New Roman,serif\" font-size=\"14.00\">Data</text>\n",
       "</g>\n",
       "<!-- Beta -->\n",
       "<g id=\"node6\" class=\"node\">\n",
       "<title>Beta</title>\n",
       "<polygon fill=\"none\" stroke=\"black\" points=\"309.5,-220.13 218.5,-220.13 218.5,-167.13 309.5,-167.13 309.5,-220.13\"/>\n",
       "<text text-anchor=\"middle\" x=\"264\" y=\"-204.93\" font-family=\"Times New Roman,serif\" font-size=\"14.00\">Beta</text>\n",
       "<text text-anchor=\"middle\" x=\"264\" y=\"-189.93\" font-family=\"Times New Roman,serif\" font-size=\"14.00\">~</text>\n",
       "<text text-anchor=\"middle\" x=\"264\" y=\"-174.93\" font-family=\"Times New Roman,serif\" font-size=\"14.00\">Deterministic</text>\n",
       "</g>\n",
       "<!-- X_data_obs&#45;&gt;Beta -->\n",
       "<g id=\"edge4\" class=\"edge\">\n",
       "<title>X_data_obs&#45;&gt;Beta</title>\n",
       "<path fill=\"none\" stroke=\"black\" d=\"M197.38,-278.01C206.68,-265.27 218.24,-249.74 229,-236.13 231.05,-233.54 233.19,-230.89 235.36,-228.23\"/>\n",
       "<polygon fill=\"black\" stroke=\"black\" points=\"238.22,-230.26 241.9,-220.32 232.83,-225.8 238.22,-230.26\"/>\n",
       "</g>\n",
       "<!-- MuBeta -->\n",
       "<g id=\"node2\" class=\"node\">\n",
       "<title>MuBeta</title>\n",
       "<ellipse fill=\"none\" stroke=\"black\" cx=\"281\" cy=\"-304.61\" rx=\"43.27\" ry=\"37.45\"/>\n",
       "<text text-anchor=\"middle\" x=\"281\" y=\"-315.91\" font-family=\"Times New Roman,serif\" font-size=\"14.00\">MuBeta</text>\n",
       "<text text-anchor=\"middle\" x=\"281\" y=\"-300.91\" font-family=\"Times New Roman,serif\" font-size=\"14.00\">~</text>\n",
       "<text text-anchor=\"middle\" x=\"281\" y=\"-285.91\" font-family=\"Times New Roman,serif\" font-size=\"14.00\">Normal</text>\n",
       "</g>\n",
       "<!-- MuBeta&#45;&gt;Beta -->\n",
       "<g id=\"edge2\" class=\"edge\">\n",
       "<title>MuBeta&#45;&gt;Beta</title>\n",
       "<path fill=\"none\" stroke=\"black\" d=\"M275.34,-267.32C273.49,-255.44 271.43,-242.26 269.58,-230.42\"/>\n",
       "<polygon fill=\"black\" stroke=\"black\" points=\"273.02,-229.77 268.02,-220.43 266.11,-230.85 273.02,-229.77\"/>\n",
       "</g>\n",
       "<!-- MuAlpha -->\n",
       "<g id=\"node3\" class=\"node\">\n",
       "<title>MuAlpha</title>\n",
       "<ellipse fill=\"none\" stroke=\"black\" cx=\"72\" cy=\"-304.61\" rx=\"48.58\" ry=\"37.45\"/>\n",
       "<text text-anchor=\"middle\" x=\"72\" y=\"-315.91\" font-family=\"Times New Roman,serif\" font-size=\"14.00\">MuAlpha</text>\n",
       "<text text-anchor=\"middle\" x=\"72\" y=\"-300.91\" font-family=\"Times New Roman,serif\" font-size=\"14.00\">~</text>\n",
       "<text text-anchor=\"middle\" x=\"72\" y=\"-285.91\" font-family=\"Times New Roman,serif\" font-size=\"14.00\">Normal</text>\n",
       "</g>\n",
       "<!-- Alpha -->\n",
       "<g id=\"node4\" class=\"node\">\n",
       "<title>Alpha</title>\n",
       "<polygon fill=\"none\" stroke=\"black\" points=\"134.5,-220.13 43.5,-220.13 43.5,-167.13 134.5,-167.13 134.5,-220.13\"/>\n",
       "<text text-anchor=\"middle\" x=\"89\" y=\"-204.93\" font-family=\"Times New Roman,serif\" font-size=\"14.00\">Alpha</text>\n",
       "<text text-anchor=\"middle\" x=\"89\" y=\"-189.93\" font-family=\"Times New Roman,serif\" font-size=\"14.00\">~</text>\n",
       "<text text-anchor=\"middle\" x=\"89\" y=\"-174.93\" font-family=\"Times New Roman,serif\" font-size=\"14.00\">Deterministic</text>\n",
       "</g>\n",
       "<!-- MuAlpha&#45;&gt;Alpha -->\n",
       "<g id=\"edge1\" class=\"edge\">\n",
       "<title>MuAlpha&#45;&gt;Alpha</title>\n",
       "<path fill=\"none\" stroke=\"black\" d=\"M77.66,-267.32C79.51,-255.44 81.57,-242.26 83.42,-230.42\"/>\n",
       "<polygon fill=\"black\" stroke=\"black\" points=\"86.89,-230.85 84.98,-220.43 79.98,-229.77 86.89,-230.85\"/>\n",
       "</g>\n",
       "<!-- TimesObserved -->\n",
       "<g id=\"node7\" class=\"node\">\n",
       "<title>TimesObserved</title>\n",
       "<ellipse fill=\"lightgrey\" stroke=\"black\" cx=\"89\" cy=\"-79.56\" rx=\"72.66\" ry=\"37.45\"/>\n",
       "<text text-anchor=\"middle\" x=\"89\" y=\"-90.86\" font-family=\"Times New Roman,serif\" font-size=\"14.00\">TimesObserved</text>\n",
       "<text text-anchor=\"middle\" x=\"89\" y=\"-75.86\" font-family=\"Times New Roman,serif\" font-size=\"14.00\">~</text>\n",
       "<text text-anchor=\"middle\" x=\"89\" y=\"-60.86\" font-family=\"Times New Roman,serif\" font-size=\"14.00\">WeibullBeta</text>\n",
       "</g>\n",
       "<!-- Alpha&#45;&gt;TimesObserved -->\n",
       "<g id=\"edge6\" class=\"edge\">\n",
       "<title>Alpha&#45;&gt;TimesObserved</title>\n",
       "<path fill=\"none\" stroke=\"black\" d=\"M89,-166.92C89,-155.18 89,-140.9 89,-127.35\"/>\n",
       "<polygon fill=\"black\" stroke=\"black\" points=\"92.5,-127.2 89,-117.2 85.5,-127.2 92.5,-127.2\"/>\n",
       "</g>\n",
       "<!-- TimesCensored -->\n",
       "<g id=\"node8\" class=\"node\">\n",
       "<title>TimesCensored</title>\n",
       "<polygon fill=\"lightgrey\" stroke=\"black\" points=\"342.13,-62.74 342.13,-96.39 296.36,-120.19 231.64,-120.19 185.87,-96.39 185.87,-62.74 231.64,-38.94 296.36,-38.94 342.13,-62.74\"/>\n",
       "<text text-anchor=\"middle\" x=\"264\" y=\"-90.86\" font-family=\"Times New Roman,serif\" font-size=\"14.00\">TimesCensored</text>\n",
       "<text text-anchor=\"middle\" x=\"264\" y=\"-75.86\" font-family=\"Times New Roman,serif\" font-size=\"14.00\">~</text>\n",
       "<text text-anchor=\"middle\" x=\"264\" y=\"-60.86\" font-family=\"Times New Roman,serif\" font-size=\"14.00\">Potential</text>\n",
       "</g>\n",
       "<!-- Alpha&#45;&gt;TimesCensored -->\n",
       "<g id=\"edge8\" class=\"edge\">\n",
       "<title>Alpha&#45;&gt;TimesCensored</title>\n",
       "<path fill=\"none\" stroke=\"black\" d=\"M129.15,-166.92C152.18,-152.17 181.47,-133.42 206.86,-117.15\"/>\n",
       "<polygon fill=\"black\" stroke=\"black\" points=\"208.78,-120.08 215.31,-111.74 205,-114.19 208.78,-120.08\"/>\n",
       "</g>\n",
       "<!-- Zeta -->\n",
       "<g id=\"node5\" class=\"node\">\n",
       "<title>Zeta</title>\n",
       "<ellipse fill=\"none\" stroke=\"black\" cx=\"384\" cy=\"-304.61\" rx=\"41.94\" ry=\"37.45\"/>\n",
       "<text text-anchor=\"middle\" x=\"384\" y=\"-315.91\" font-family=\"Times New Roman,serif\" font-size=\"14.00\">Zeta</text>\n",
       "<text text-anchor=\"middle\" x=\"384\" y=\"-300.91\" font-family=\"Times New Roman,serif\" font-size=\"14.00\">~</text>\n",
       "<text text-anchor=\"middle\" x=\"384\" y=\"-285.91\" font-family=\"Times New Roman,serif\" font-size=\"14.00\">Normal</text>\n",
       "</g>\n",
       "<!-- Zeta&#45;&gt;Beta -->\n",
       "<g id=\"edge3\" class=\"edge\">\n",
       "<title>Zeta&#45;&gt;Beta</title>\n",
       "<path fill=\"none\" stroke=\"black\" d=\"M363.67,-271.63C355.1,-259.64 344.46,-246.44 333,-236.13 328.36,-231.96 323.24,-227.98 317.96,-224.25\"/>\n",
       "<polygon fill=\"black\" stroke=\"black\" points=\"319.8,-221.28 309.55,-218.62 315.9,-227.09 319.8,-221.28\"/>\n",
       "</g>\n",
       "<!-- Beta&#45;&gt;TimesObserved -->\n",
       "<g id=\"edge5\" class=\"edge\">\n",
       "<title>Beta&#45;&gt;TimesObserved</title>\n",
       "<path fill=\"none\" stroke=\"black\" d=\"M223.85,-166.92C199.74,-151.48 168.75,-131.64 142.57,-114.87\"/>\n",
       "<polygon fill=\"black\" stroke=\"black\" points=\"144.2,-111.75 133.89,-109.31 140.42,-117.65 144.2,-111.75\"/>\n",
       "</g>\n",
       "<!-- Beta&#45;&gt;TimesCensored -->\n",
       "<g id=\"edge7\" class=\"edge\">\n",
       "<title>Beta&#45;&gt;TimesCensored</title>\n",
       "<path fill=\"none\" stroke=\"black\" d=\"M264,-166.92C264,-156.01 264,-142.9 264,-130.23\"/>\n",
       "<polygon fill=\"black\" stroke=\"black\" points=\"267.5,-130.22 264,-120.22 260.5,-130.22 267.5,-130.22\"/>\n",
       "</g>\n",
       "</g>\n",
       "</svg>\n"
      ],
      "text/plain": [
       "<graphviz.graphs.Digraph at 0x1694bfff0e0>"
      ]
     },
     "execution_count": 12,
     "metadata": {},
     "output_type": "execute_result"
    }
   ],
   "source": [
    "pm.model_to_graphviz(WeibullAFTBayesian)"
   ]
  },
  {
   "cell_type": "code",
   "execution_count": 13,
   "metadata": {},
   "outputs": [
    {
     "name": "stderr",
     "output_type": "stream",
     "text": [
      "Initializing NUTS using jitter+adapt_diag...\n",
      "Multiprocess sampling (4 chains in 4 jobs)\n",
      "NUTS: [MuBeta, Zeta, MuAlpha]\n"
     ]
    },
    {
     "data": {
      "application/vnd.jupyter.widget-view+json": {
       "model_id": "7ba88ffcd1454884a93bc566654dac8e",
       "version_major": 2,
       "version_minor": 0
      },
      "text/plain": [
       "Output()"
      ]
     },
     "metadata": {},
     "output_type": "display_data"
    },
    {
     "data": {
      "text/html": [
       "<pre style=\"white-space:pre;overflow-x:auto;line-height:normal;font-family:Menlo,'DejaVu Sans Mono',consolas,'Courier New',monospace\"></pre>\n"
      ],
      "text/plain": []
     },
     "metadata": {},
     "output_type": "display_data"
    },
    {
     "name": "stderr",
     "output_type": "stream",
     "text": [
      "Sampling 4 chains for 500 tune and 500 draw iterations (2_000 + 2_000 draws total) took 22 seconds.\n"
     ]
    }
   ],
   "source": [
    "if TRAIN:\n",
    "    with WeibullAFTBayesian:\n",
    "        TraceWeibullAFT = pm.sample(draws=500, tune=500, target_accept=0.95)"
   ]
  },
  {
   "cell_type": "markdown",
   "metadata": {},
   "source": [
    "Save the trace"
   ]
  },
  {
   "cell_type": "code",
   "execution_count": 14,
   "metadata": {},
   "outputs": [],
   "source": [
    "if TRAIN:\n",
    "    TraceWeibullAFT.posterior.to_netcdf(\"WeibullAFT.h5\", engine=\"scipy\")"
   ]
  },
  {
   "cell_type": "markdown",
   "metadata": {},
   "source": [
    "Load the trace"
   ]
  },
  {
   "cell_type": "code",
   "execution_count": 15,
   "metadata": {},
   "outputs": [],
   "source": [
    "if not TRAIN:\n",
    "    TraceWeibullAFT = open_dataset(\"WeibullAFT.h5\", engine=\"scipy\")"
   ]
  },
  {
   "cell_type": "markdown",
   "metadata": {},
   "source": [
    "Get a statistical summary of the posterior distribution"
   ]
  },
  {
   "cell_type": "code",
   "execution_count": 16,
   "metadata": {},
   "outputs": [
    {
     "data": {
      "text/html": [
       "<div>\n",
       "<style scoped>\n",
       "    .dataframe tbody tr th:only-of-type {\n",
       "        vertical-align: middle;\n",
       "    }\n",
       "\n",
       "    .dataframe tbody tr th {\n",
       "        vertical-align: top;\n",
       "    }\n",
       "\n",
       "    .dataframe thead th {\n",
       "        text-align: right;\n",
       "    }\n",
       "</style>\n",
       "<table border=\"1\" class=\"dataframe\">\n",
       "  <thead>\n",
       "    <tr style=\"text-align: right;\">\n",
       "      <th></th>\n",
       "      <th>median</th>\n",
       "      <th>mad</th>\n",
       "      <th>eti_2.5%</th>\n",
       "      <th>eti_97.5%</th>\n",
       "    </tr>\n",
       "  </thead>\n",
       "  <tbody>\n",
       "    <tr>\n",
       "      <th>MuBeta</th>\n",
       "      <td>7.932</td>\n",
       "      <td>0.160</td>\n",
       "      <td>7.465</td>\n",
       "      <td>8.420</td>\n",
       "    </tr>\n",
       "    <tr>\n",
       "      <th>Zeta[age]</th>\n",
       "      <td>0.883</td>\n",
       "      <td>0.266</td>\n",
       "      <td>0.105</td>\n",
       "      <td>1.653</td>\n",
       "    </tr>\n",
       "    <tr>\n",
       "      <th>Zeta[size]</th>\n",
       "      <td>-0.670</td>\n",
       "      <td>0.232</td>\n",
       "      <td>-1.363</td>\n",
       "      <td>0.004</td>\n",
       "    </tr>\n",
       "    <tr>\n",
       "      <th>Zeta[nodes]</th>\n",
       "      <td>-1.804</td>\n",
       "      <td>0.203</td>\n",
       "      <td>-2.370</td>\n",
       "      <td>-1.207</td>\n",
       "    </tr>\n",
       "    <tr>\n",
       "      <th>Zeta[prog]</th>\n",
       "      <td>2.211</td>\n",
       "      <td>0.449</td>\n",
       "      <td>0.967</td>\n",
       "      <td>3.653</td>\n",
       "    </tr>\n",
       "    <tr>\n",
       "      <th>Zeta[oest]</th>\n",
       "      <td>-0.161</td>\n",
       "      <td>0.250</td>\n",
       "      <td>-0.860</td>\n",
       "      <td>0.566</td>\n",
       "    </tr>\n",
       "    <tr>\n",
       "      <th>Zeta[treat_1]</th>\n",
       "      <td>0.214</td>\n",
       "      <td>0.071</td>\n",
       "      <td>0.014</td>\n",
       "      <td>0.424</td>\n",
       "    </tr>\n",
       "    <tr>\n",
       "      <th>Zeta[men_2]</th>\n",
       "      <td>-0.348</td>\n",
       "      <td>0.091</td>\n",
       "      <td>-0.626</td>\n",
       "      <td>-0.060</td>\n",
       "    </tr>\n",
       "    <tr>\n",
       "      <th>Zeta[grade_2]</th>\n",
       "      <td>-0.222</td>\n",
       "      <td>0.118</td>\n",
       "      <td>-0.577</td>\n",
       "      <td>0.106</td>\n",
       "    </tr>\n",
       "    <tr>\n",
       "      <th>Zeta[grade_3]</th>\n",
       "      <td>-0.408</td>\n",
       "      <td>0.129</td>\n",
       "      <td>-0.793</td>\n",
       "      <td>-0.050</td>\n",
       "    </tr>\n",
       "    <tr>\n",
       "      <th>MuAlpha</th>\n",
       "      <td>0.328</td>\n",
       "      <td>0.041</td>\n",
       "      <td>0.213</td>\n",
       "      <td>0.443</td>\n",
       "    </tr>\n",
       "    <tr>\n",
       "      <th>Alpha</th>\n",
       "      <td>1.388</td>\n",
       "      <td>0.057</td>\n",
       "      <td>1.237</td>\n",
       "      <td>1.557</td>\n",
       "    </tr>\n",
       "  </tbody>\n",
       "</table>\n",
       "</div>"
      ],
      "text/plain": [
       "               median    mad  eti_2.5%  eti_97.5%\n",
       "MuBeta          7.932  0.160     7.465      8.420\n",
       "Zeta[age]       0.883  0.266     0.105      1.653\n",
       "Zeta[size]     -0.670  0.232    -1.363      0.004\n",
       "Zeta[nodes]    -1.804  0.203    -2.370     -1.207\n",
       "Zeta[prog]      2.211  0.449     0.967      3.653\n",
       "Zeta[oest]     -0.161  0.250    -0.860      0.566\n",
       "Zeta[treat_1]   0.214  0.071     0.014      0.424\n",
       "Zeta[men_2]    -0.348  0.091    -0.626     -0.060\n",
       "Zeta[grade_2]  -0.222  0.118    -0.577      0.106\n",
       "Zeta[grade_3]  -0.408  0.129    -0.793     -0.050\n",
       "MuAlpha         0.328  0.041     0.213      0.443\n",
       "Alpha           1.388  0.057     1.237      1.557"
      ]
     },
     "execution_count": 16,
     "metadata": {},
     "output_type": "execute_result"
    }
   ],
   "source": [
    "Summary = az.summary(TraceWeibullAFT, kind=\"stats\", stat_focus=\"median\", hdi_prob=1-ALPHA)\n",
    "Summary[Summary.index.str.startswith((\"MuAlpha\", \"Alpha\", \"MuBeta\", \"Zeta\"))]"
   ]
  },
  {
   "cell_type": "markdown",
   "metadata": {},
   "source": [
    "Get punctual estimates for the parameters "
   ]
  },
  {
   "cell_type": "code",
   "execution_count": 17,
   "metadata": {},
   "outputs": [],
   "source": [
    "HatAlpha = Summary[\"median\"][\"Alpha\"]\n",
    "HatBetas = Summary[Summary.index.str.startswith(\"Beta\")][\"median\"]\n",
    "\n",
    "HatMuBeta = Summary[\"median\"][\"MuBeta\"]\n",
    "HatZetas = Summary[Summary.index.str.startswith(\"Zeta\")][\"median\"]"
   ]
  },
  {
   "cell_type": "markdown",
   "metadata": {},
   "source": [
    "## Plotting the survivor function "
   ]
  },
  {
   "cell_type": "markdown",
   "metadata": {},
   "source": [
    "Calculate the survivor function for the training data set, and plot it to get a visual representation of the model"
   ]
  },
  {
   "cell_type": "code",
   "execution_count": 18,
   "metadata": {},
   "outputs": [],
   "source": [
    "t_vect = np.linspace(0, 3_000)\n",
    "Survivors = []\n",
    "\n",
    "for b in HatBetas:\n",
    "    for t in t_vect:\n",
    "        if t==t_vect[0]:\n",
    "            _ = [WeibullSurvivor(t, HatAlpha, b)]\n",
    "        else:\n",
    "            _.append(WeibullSurvivor(t, HatAlpha, b))\n",
    "    Survivors.append(_)\n",
    "\n",
    "Survivors = np.array(Survivors)\n",
    "\n",
    "SurvivorRiskAdjusted = Survivors.mean(axis=0)"
   ]
  },
  {
   "cell_type": "markdown",
   "metadata": {},
   "source": [
    "Plot the survivor function, and compare it with the KM estimate fit with the training data"
   ]
  },
  {
   "cell_type": "code",
   "execution_count": 19,
   "metadata": {},
   "outputs": [
    {
     "data": {
      "text/plain": [
       "<lifelines.KaplanMeierFitter:\"KM_estimate\", fitted with 611 total observations, 387 right-censored observations>"
      ]
     },
     "execution_count": 19,
     "metadata": {},
     "output_type": "execute_result"
    }
   ],
   "source": [
    "KM = KaplanMeierFitter()\n",
    "KM.fit(DatTraining['time'], DatTraining['status'])"
   ]
  },
  {
   "cell_type": "code",
   "execution_count": 20,
   "metadata": {},
   "outputs": [
    {
     "data": {
      "image/png": "[encoded data removed]",
      "text/plain": [
       "<Figure size 550x500 with 1 Axes>"
      ]
     },
     "metadata": {},
     "output_type": "display_data"
    }
   ],
   "source": [
    "f, ax = plt.subplots(1, 1, figsize=(5.5,5), sharex=True, sharey=True)\n",
    "\n",
    "for s in Survivors[:50]:\n",
    "    ax.plot(\n",
    "        t_vect,\n",
    "        s,\n",
    "        color='k',\n",
    "        linestyle=\"--\",\n",
    "        linewidth=0.5\n",
    "    )\n",
    "\n",
    "KM.plot_survival_function(color=mpl.colormaps['tab10'].colors[1])\n",
    "\n",
    "#ax.get_legend().remove()\n",
    "ax.legend()\n",
    "ax.set_xlabel(\"Time\")\n",
    "ax.set_ylabel(\"Survivor function\")\n",
    "#ax.set_title(\"Weibull proportional hazards\")\n",
    "ax.spines[['right', 'top']].set_visible(False)"
   ]
  },
  {
   "cell_type": "markdown",
   "metadata": {},
   "source": [
    "Calculate the risk-adjusted survivor function, and compare it with the KM estimate fit with the training data"
   ]
  },
  {
   "cell_type": "code",
   "execution_count": 21,
   "metadata": {},
   "outputs": [
    {
     "data": {
      "image/png": "[encoded data removed]",
      "text/plain": [
       "<Figure size 550x500 with 1 Axes>"
      ]
     },
     "metadata": {},
     "output_type": "display_data"
    }
   ],
   "source": [
    "f, ax = plt.subplots(1, 1, figsize=(5.5,5), sharex=True, sharey=True)\n",
    "\n",
    "ax.plot(\n",
    "    t_vect,\n",
    "    SurvivorRiskAdjusted,\n",
    "    color='rebeccapurple',\n",
    "    label=\"WeibullAFT_riskadjusted\"\n",
    ")\n",
    "\n",
    "KM.plot_survival_function(color=mpl.colormaps['tab10'].colors[1])\n",
    "\n",
    "#ax.get_legend().remove()\n",
    "ax.legend()\n",
    "ax.set_xlabel(\"Time\")\n",
    "ax.set_ylabel(\"Survivor function\")\n",
    "#ax.set_title(\"Weibull proportional hazards\")\n",
    "ax.spines[['right', 'top']].set_visible(False)"
   ]
  },
  {
   "cell_type": "markdown",
   "metadata": {},
   "source": [
    "## Evaluate the model"
   ]
  },
  {
   "cell_type": "markdown",
   "metadata": {},
   "source": [
    "Getting the median survival time of the testing observations"
   ]
  },
  {
   "cell_type": "code",
   "execution_count": 22,
   "metadata": {},
   "outputs": [],
   "source": [
    "HatBetasTesting = np.exp(HatMuBeta + np.dot(DatTesting[PREDS], HatZetas).astype(\"float\"))\n",
    "\n",
    "for b in HatBetas:\n",
    "    MedianTimeTesting = TimeQuantile(0.5, HatAlpha, HatBetasTesting)    "
   ]
  },
  {
   "cell_type": "markdown",
   "metadata": {},
   "source": [
    "Add the median time as the predicted time for the testing data, and calculate the RMSE."
   ]
  },
  {
   "cell_type": "code",
   "execution_count": 23,
   "metadata": {},
   "outputs": [
    {
     "data": {
      "text/plain": [
       "(1191.6275, np.float64(0.611))"
      ]
     },
     "execution_count": 23,
     "metadata": {},
     "output_type": "execute_result"
    }
   ],
   "source": [
    "DatTesting[\"PredictedTime_Bayesian\"] = MedianTimeTesting\n",
    "\n",
    "RmseBayesian = round(root_mean_squared_error(DatTesting[\"time\"], DatTesting[\"PredictedTime_Bayesian\"]), 4)\n",
    "CIndexBayesian = round(concordance_index(DatTesting[\"time\"], DatTesting[\"PredictedTime_Bayesian\"]), 4)\n",
    "\n",
    "RmseBayesian, CIndexBayesian"
   ]
  },
  {
   "cell_type": "code",
   "execution_count": 31,
   "metadata": {},
   "outputs": [
    {
     "data": {
      "text/plain": [
       "611    1451.627817\n",
       "612    1410.021679\n",
       "613    2113.793018\n",
       "614    2434.689041\n",
       "615    1903.201438\n",
       "          ...     \n",
       "681    1769.705599\n",
       "682    1610.581941\n",
       "683    1494.087982\n",
       "684    2189.321363\n",
       "685    1791.530491\n",
       "Name: PredictedTime_Bayesian, Length: 75, dtype: float64"
      ]
     },
     "execution_count": 31,
     "metadata": {},
     "output_type": "execute_result"
    }
   ],
   "source": [
    "DatTesting[\"PredictedTime_Bayesian\"]"
   ]
  },
  {
   "cell_type": "markdown",
   "metadata": {},
   "source": [
    "## Fit the WeibullAFT model using ``lifelines``\n",
    "\n",
    "$\\lambda$ is what is tipically denoted as $\\beta$, i.e. the scale parameter.\n",
    "\n",
    "$\\exp\\{\\rho[\\text{intercept}]\\}$ is what is tipically denoted as $\\alpha$, i.e. the shape parameter."
   ]
  },
  {
   "cell_type": "code",
   "execution_count": 24,
   "metadata": {},
   "outputs": [
    {
     "data": {
      "text/plain": [
       "<lifelines.WeibullAFTFitter: fitted with 611 total observations, 387 right-censored observations>"
      ]
     },
     "execution_count": 24,
     "metadata": {},
     "output_type": "execute_result"
    }
   ],
   "source": [
    "WeibAFTModel = WeibullAFTFitter(alpha=ALPHA)\n",
    "\n",
    "WeibAFTModel.fit(\n",
    "    DatTraining,\n",
    "    'time',\n",
    "    'status',\n",
    "    formula=\"+\".join(PREDS)\n",
    ")"
   ]
  },
  {
   "cell_type": "code",
   "execution_count": 25,
   "metadata": {},
   "outputs": [
    {
     "data": {
      "text/html": [
       "<div>\n",
       "<style scoped>\n",
       "    .dataframe tbody tr th:only-of-type {\n",
       "        vertical-align: middle;\n",
       "    }\n",
       "\n",
       "    .dataframe tbody tr th {\n",
       "        vertical-align: top;\n",
       "    }\n",
       "\n",
       "    .dataframe thead th {\n",
       "        text-align: right;\n",
       "    }\n",
       "</style>\n",
       "<table border=\"1\" class=\"dataframe\">\n",
       "  <tbody>\n",
       "    <tr>\n",
       "      <th>model</th>\n",
       "      <td>lifelines.WeibullAFTFitter</td>\n",
       "    </tr>\n",
       "    <tr>\n",
       "      <th>duration col</th>\n",
       "      <td>'time'</td>\n",
       "    </tr>\n",
       "    <tr>\n",
       "      <th>event col</th>\n",
       "      <td>'status'</td>\n",
       "    </tr>\n",
       "    <tr>\n",
       "      <th>number of observations</th>\n",
       "      <td>611</td>\n",
       "    </tr>\n",
       "    <tr>\n",
       "      <th>number of events observed</th>\n",
       "      <td>224</td>\n",
       "    </tr>\n",
       "    <tr>\n",
       "      <th>log-likelihood</th>\n",
       "      <td>-1977.27</td>\n",
       "    </tr>\n",
       "    <tr>\n",
       "      <th>time fit was run</th>\n",
       "      <td>2025-04-09 04:59:22 UTC</td>\n",
       "    </tr>\n",
       "  </tbody>\n",
       "</table>\n",
       "</div><table border=\"1\" class=\"dataframe\">\n",
       "  <thead>\n",
       "    <tr style=\"text-align: right;\">\n",
       "      <th style=\"min-width: 12px;\"></th>\n",
       "      <th style=\"min-width: 12px;\"></th>\n",
       "      <th style=\"min-width: 12px;\">coef</th>\n",
       "      <th style=\"min-width: 12px;\">exp(coef)</th>\n",
       "      <th style=\"min-width: 12px;\">se(coef)</th>\n",
       "      <th style=\"min-width: 12px;\">coef lower 95%</th>\n",
       "      <th style=\"min-width: 12px;\">coef upper 95%</th>\n",
       "      <th style=\"min-width: 12px;\">exp(coef) lower 95%</th>\n",
       "      <th style=\"min-width: 12px;\">exp(coef) upper 95%</th>\n",
       "      <th style=\"min-width: 12px;\">cmp to</th>\n",
       "      <th style=\"min-width: 12px;\">z</th>\n",
       "      <th style=\"min-width: 12px;\">p</th>\n",
       "      <th style=\"min-width: 12px;\">-log2(p)</th>\n",
       "    </tr>\n",
       "  </thead>\n",
       "  <tbody>\n",
       "    <tr>\n",
       "      <th rowspan=\"10\" valign=\"top\">lambda_</th>\n",
       "      <th>Intercept</th>\n",
       "      <td>8.33</td>\n",
       "      <td>4142.96</td>\n",
       "      <td>0.28</td>\n",
       "      <td>7.77</td>\n",
       "      <td>8.89</td>\n",
       "      <td>2370.05</td>\n",
       "      <td>7242.10</td>\n",
       "      <td>0.00</td>\n",
       "      <td>29.23</td>\n",
       "      <td>&lt;0.005</td>\n",
       "      <td>621.50</td>\n",
       "    </tr>\n",
       "    <tr>\n",
       "      <th>age</th>\n",
       "      <td>0.49</td>\n",
       "      <td>1.63</td>\n",
       "      <td>0.45</td>\n",
       "      <td>-0.40</td>\n",
       "      <td>1.37</td>\n",
       "      <td>0.67</td>\n",
       "      <td>3.95</td>\n",
       "      <td>0.00</td>\n",
       "      <td>1.08</td>\n",
       "      <td>0.28</td>\n",
       "      <td>1.83</td>\n",
       "    </tr>\n",
       "    <tr>\n",
       "      <th>size</th>\n",
       "      <td>-0.99</td>\n",
       "      <td>0.37</td>\n",
       "      <td>0.39</td>\n",
       "      <td>-1.76</td>\n",
       "      <td>-0.23</td>\n",
       "      <td>0.17</td>\n",
       "      <td>0.79</td>\n",
       "      <td>0.00</td>\n",
       "      <td>-2.55</td>\n",
       "      <td>0.01</td>\n",
       "      <td>6.53</td>\n",
       "    </tr>\n",
       "    <tr>\n",
       "      <th>nodes</th>\n",
       "      <td>-1.88</td>\n",
       "      <td>0.15</td>\n",
       "      <td>0.30</td>\n",
       "      <td>-2.48</td>\n",
       "      <td>-1.29</td>\n",
       "      <td>0.08</td>\n",
       "      <td>0.28</td>\n",
       "      <td>0.00</td>\n",
       "      <td>-6.19</td>\n",
       "      <td>&lt;0.005</td>\n",
       "      <td>30.65</td>\n",
       "    </tr>\n",
       "    <tr>\n",
       "      <th>prog</th>\n",
       "      <td>4.02</td>\n",
       "      <td>55.71</td>\n",
       "      <td>1.12</td>\n",
       "      <td>1.83</td>\n",
       "      <td>6.21</td>\n",
       "      <td>6.24</td>\n",
       "      <td>497.26</td>\n",
       "      <td>0.00</td>\n",
       "      <td>3.60</td>\n",
       "      <td>&lt;0.005</td>\n",
       "      <td>11.62</td>\n",
       "    </tr>\n",
       "    <tr>\n",
       "      <th>oest</th>\n",
       "      <td>-0.44</td>\n",
       "      <td>0.65</td>\n",
       "      <td>0.39</td>\n",
       "      <td>-1.20</td>\n",
       "      <td>0.32</td>\n",
       "      <td>0.30</td>\n",
       "      <td>1.38</td>\n",
       "      <td>0.00</td>\n",
       "      <td>-1.13</td>\n",
       "      <td>0.26</td>\n",
       "      <td>1.96</td>\n",
       "    </tr>\n",
       "    <tr>\n",
       "      <th>treat_1</th>\n",
       "      <td>0.20</td>\n",
       "      <td>1.22</td>\n",
       "      <td>0.11</td>\n",
       "      <td>-0.01</td>\n",
       "      <td>0.41</td>\n",
       "      <td>0.99</td>\n",
       "      <td>1.50</td>\n",
       "      <td>0.00</td>\n",
       "      <td>1.90</td>\n",
       "      <td>0.06</td>\n",
       "      <td>4.11</td>\n",
       "    </tr>\n",
       "    <tr>\n",
       "      <th>men_2</th>\n",
       "      <td>-0.27</td>\n",
       "      <td>0.76</td>\n",
       "      <td>0.15</td>\n",
       "      <td>-0.57</td>\n",
       "      <td>0.02</td>\n",
       "      <td>0.57</td>\n",
       "      <td>1.02</td>\n",
       "      <td>0.00</td>\n",
       "      <td>-1.81</td>\n",
       "      <td>0.07</td>\n",
       "      <td>3.82</td>\n",
       "    </tr>\n",
       "    <tr>\n",
       "      <th>grade_2</th>\n",
       "      <td>-0.41</td>\n",
       "      <td>0.66</td>\n",
       "      <td>0.20</td>\n",
       "      <td>-0.81</td>\n",
       "      <td>-0.02</td>\n",
       "      <td>0.45</td>\n",
       "      <td>0.98</td>\n",
       "      <td>0.00</td>\n",
       "      <td>-2.08</td>\n",
       "      <td>0.04</td>\n",
       "      <td>4.72</td>\n",
       "    </tr>\n",
       "    <tr>\n",
       "      <th>grade_3</th>\n",
       "      <td>-0.58</td>\n",
       "      <td>0.56</td>\n",
       "      <td>0.21</td>\n",
       "      <td>-1.00</td>\n",
       "      <td>-0.16</td>\n",
       "      <td>0.37</td>\n",
       "      <td>0.85</td>\n",
       "      <td>0.00</td>\n",
       "      <td>-2.70</td>\n",
       "      <td>0.01</td>\n",
       "      <td>7.16</td>\n",
       "    </tr>\n",
       "    <tr>\n",
       "      <th>rho_</th>\n",
       "      <th>Intercept</th>\n",
       "      <td>0.32</td>\n",
       "      <td>1.38</td>\n",
       "      <td>0.06</td>\n",
       "      <td>0.21</td>\n",
       "      <td>0.44</td>\n",
       "      <td>1.24</td>\n",
       "      <td>1.55</td>\n",
       "      <td>0.00</td>\n",
       "      <td>5.68</td>\n",
       "      <td>&lt;0.005</td>\n",
       "      <td>26.18</td>\n",
       "    </tr>\n",
       "  </tbody>\n",
       "</table><br><div>\n",
       "<style scoped>\n",
       "    .dataframe tbody tr th:only-of-type {\n",
       "        vertical-align: middle;\n",
       "    }\n",
       "\n",
       "    .dataframe tbody tr th {\n",
       "        vertical-align: top;\n",
       "    }\n",
       "\n",
       "    .dataframe thead th {\n",
       "        text-align: right;\n",
       "    }\n",
       "</style>\n",
       "<table border=\"1\" class=\"dataframe\">\n",
       "  <tbody>\n",
       "    <tr>\n",
       "      <th>Concordance</th>\n",
       "      <td>0.70</td>\n",
       "    </tr>\n",
       "    <tr>\n",
       "      <th>AIC</th>\n",
       "      <td>3976.54</td>\n",
       "    </tr>\n",
       "    <tr>\n",
       "      <th>log-likelihood ratio test</th>\n",
       "      <td>92.49 on 9 df</td>\n",
       "    </tr>\n",
       "    <tr>\n",
       "      <th>-log2(p) of ll-ratio test</th>\n",
       "      <td>50.79</td>\n",
       "    </tr>\n",
       "  </tbody>\n",
       "</table>\n",
       "</div>"
      ],
      "text/latex": [
       "\\begin{tabular}{llrrrrrrrrrrr}\n",
       " &  & coef & exp(coef) & se(coef) & coef lower 95% & coef upper 95% & exp(coef) lower 95% & exp(coef) upper 95% & cmp to & z & p & -log2(p) \\\\\n",
       "param & covariate &  &  &  &  &  &  &  &  &  &  &  \\\\\n",
       "\\multirow[c]{10}{*}{lambda_} & Intercept & 8.33 & 4142.96 & 0.28 & 7.77 & 8.89 & 2370.05 & 7242.10 & 0.00 & 29.23 & 0.00 & 621.50 \\\\\n",
       " & age & 0.49 & 1.63 & 0.45 & -0.40 & 1.37 & 0.67 & 3.95 & 0.00 & 1.08 & 0.28 & 1.83 \\\\\n",
       " & size & -0.99 & 0.37 & 0.39 & -1.76 & -0.23 & 0.17 & 0.79 & 0.00 & -2.55 & 0.01 & 6.53 \\\\\n",
       " & nodes & -1.88 & 0.15 & 0.30 & -2.48 & -1.29 & 0.08 & 0.28 & 0.00 & -6.19 & 0.00 & 30.65 \\\\\n",
       " & prog & 4.02 & 55.71 & 1.12 & 1.83 & 6.21 & 6.24 & 497.26 & 0.00 & 3.60 & 0.00 & 11.62 \\\\\n",
       " & oest & -0.44 & 0.65 & 0.39 & -1.20 & 0.32 & 0.30 & 1.38 & 0.00 & -1.13 & 0.26 & 1.96 \\\\\n",
       " & treat_1 & 0.20 & 1.22 & 0.11 & -0.01 & 0.41 & 0.99 & 1.50 & 0.00 & 1.90 & 0.06 & 4.11 \\\\\n",
       " & men_2 & -0.27 & 0.76 & 0.15 & -0.57 & 0.02 & 0.57 & 1.02 & 0.00 & -1.81 & 0.07 & 3.82 \\\\\n",
       " & grade_2 & -0.41 & 0.66 & 0.20 & -0.81 & -0.02 & 0.45 & 0.98 & 0.00 & -2.08 & 0.04 & 4.72 \\\\\n",
       " & grade_3 & -0.58 & 0.56 & 0.21 & -1.00 & -0.16 & 0.37 & 0.85 & 0.00 & -2.70 & 0.01 & 7.16 \\\\\n",
       "rho_ & Intercept & 0.32 & 1.38 & 0.06 & 0.21 & 0.44 & 1.24 & 1.55 & 0.00 & 5.68 & 0.00 & 26.18 \\\\\n",
       "\\end{tabular}\n"
      ],
      "text/plain": [
       "<lifelines.WeibullAFTFitter: fitted with 611 total observations, 387 right-censored observations>\n",
       "             duration col = 'time'\n",
       "                event col = 'status'\n",
       "   number of observations = 611\n",
       "number of events observed = 224\n",
       "           log-likelihood = -1977.27\n",
       "         time fit was run = 2025-04-09 04:59:22 UTC\n",
       "\n",
       "---\n",
       "                   coef exp(coef)  se(coef)  coef lower 95%  coef upper 95% exp(coef) lower 95% exp(coef) upper 95%\n",
       "param   covariate                                                                                                  \n",
       "lambda_ Intercept  8.33   4142.96      0.28            7.77            8.89             2370.05             7242.10\n",
       "        age        0.49      1.63      0.45           -0.40            1.37                0.67                3.95\n",
       "        size      -0.99      0.37      0.39           -1.76           -0.23                0.17                0.79\n",
       "        nodes     -1.88      0.15      0.30           -2.48           -1.29                0.08                0.28\n",
       "        prog       4.02     55.71      1.12            1.83            6.21                6.24              497.26\n",
       "        oest      -0.44      0.65      0.39           -1.20            0.32                0.30                1.38\n",
       "        treat_1    0.20      1.22      0.11           -0.01            0.41                0.99                1.50\n",
       "        men_2     -0.27      0.76      0.15           -0.57            0.02                0.57                1.02\n",
       "        grade_2   -0.41      0.66      0.20           -0.81           -0.02                0.45                0.98\n",
       "        grade_3   -0.58      0.56      0.21           -1.00           -0.16                0.37                0.85\n",
       "rho_    Intercept  0.32      1.38      0.06            0.21            0.44                1.24                1.55\n",
       "\n",
       "                   cmp to     z      p  -log2(p)\n",
       "param   covariate                               \n",
       "lambda_ Intercept    0.00 29.23 <0.005    621.50\n",
       "        age          0.00  1.08   0.28      1.83\n",
       "        size         0.00 -2.55   0.01      6.53\n",
       "        nodes        0.00 -6.19 <0.005     30.65\n",
       "        prog         0.00  3.60 <0.005     11.62\n",
       "        oest         0.00 -1.13   0.26      1.96\n",
       "        treat_1      0.00  1.90   0.06      4.11\n",
       "        men_2        0.00 -1.81   0.07      3.82\n",
       "        grade_2      0.00 -2.08   0.04      4.72\n",
       "        grade_3      0.00 -2.70   0.01      7.16\n",
       "rho_    Intercept    0.00  5.68 <0.005     26.18\n",
       "---\n",
       "Concordance = 0.70\n",
       "AIC = 3976.54\n",
       "log-likelihood ratio test = 92.49 on 9 df\n",
       "-log2(p) of ll-ratio test = 50.79"
      ]
     },
     "metadata": {},
     "output_type": "display_data"
    }
   ],
   "source": [
    "WeibAFTModel.print_summary()"
   ]
  },
  {
   "cell_type": "code",
   "execution_count": 26,
   "metadata": {},
   "outputs": [
    {
     "data": {
      "text/html": [
       "<div>\n",
       "<style scoped>\n",
       "    .dataframe tbody tr th:only-of-type {\n",
       "        vertical-align: middle;\n",
       "    }\n",
       "\n",
       "    .dataframe tbody tr th {\n",
       "        vertical-align: top;\n",
       "    }\n",
       "\n",
       "    .dataframe thead th {\n",
       "        text-align: right;\n",
       "    }\n",
       "</style>\n",
       "<table border=\"1\" class=\"dataframe\">\n",
       "  <thead>\n",
       "    <tr style=\"text-align: right;\">\n",
       "      <th></th>\n",
       "      <th>median</th>\n",
       "      <th>mad</th>\n",
       "      <th>eti_2.5%</th>\n",
       "      <th>eti_97.5%</th>\n",
       "    </tr>\n",
       "  </thead>\n",
       "  <tbody>\n",
       "    <tr>\n",
       "      <th>MuBeta</th>\n",
       "      <td>7.932</td>\n",
       "      <td>0.160</td>\n",
       "      <td>7.465</td>\n",
       "      <td>8.420</td>\n",
       "    </tr>\n",
       "    <tr>\n",
       "      <th>Zeta[age]</th>\n",
       "      <td>0.883</td>\n",
       "      <td>0.266</td>\n",
       "      <td>0.105</td>\n",
       "      <td>1.653</td>\n",
       "    </tr>\n",
       "    <tr>\n",
       "      <th>Zeta[size]</th>\n",
       "      <td>-0.670</td>\n",
       "      <td>0.232</td>\n",
       "      <td>-1.363</td>\n",
       "      <td>0.004</td>\n",
       "    </tr>\n",
       "    <tr>\n",
       "      <th>Zeta[nodes]</th>\n",
       "      <td>-1.804</td>\n",
       "      <td>0.203</td>\n",
       "      <td>-2.370</td>\n",
       "      <td>-1.207</td>\n",
       "    </tr>\n",
       "    <tr>\n",
       "      <th>Zeta[prog]</th>\n",
       "      <td>2.211</td>\n",
       "      <td>0.449</td>\n",
       "      <td>0.967</td>\n",
       "      <td>3.653</td>\n",
       "    </tr>\n",
       "    <tr>\n",
       "      <th>Zeta[oest]</th>\n",
       "      <td>-0.161</td>\n",
       "      <td>0.250</td>\n",
       "      <td>-0.860</td>\n",
       "      <td>0.566</td>\n",
       "    </tr>\n",
       "    <tr>\n",
       "      <th>Zeta[treat_1]</th>\n",
       "      <td>0.214</td>\n",
       "      <td>0.071</td>\n",
       "      <td>0.014</td>\n",
       "      <td>0.424</td>\n",
       "    </tr>\n",
       "    <tr>\n",
       "      <th>Zeta[men_2]</th>\n",
       "      <td>-0.348</td>\n",
       "      <td>0.091</td>\n",
       "      <td>-0.626</td>\n",
       "      <td>-0.060</td>\n",
       "    </tr>\n",
       "    <tr>\n",
       "      <th>Zeta[grade_2]</th>\n",
       "      <td>-0.222</td>\n",
       "      <td>0.118</td>\n",
       "      <td>-0.577</td>\n",
       "      <td>0.106</td>\n",
       "    </tr>\n",
       "    <tr>\n",
       "      <th>Zeta[grade_3]</th>\n",
       "      <td>-0.408</td>\n",
       "      <td>0.129</td>\n",
       "      <td>-0.793</td>\n",
       "      <td>-0.050</td>\n",
       "    </tr>\n",
       "    <tr>\n",
       "      <th>MuAlpha</th>\n",
       "      <td>0.328</td>\n",
       "      <td>0.041</td>\n",
       "      <td>0.213</td>\n",
       "      <td>0.443</td>\n",
       "    </tr>\n",
       "    <tr>\n",
       "      <th>Alpha</th>\n",
       "      <td>1.388</td>\n",
       "      <td>0.057</td>\n",
       "      <td>1.237</td>\n",
       "      <td>1.557</td>\n",
       "    </tr>\n",
       "  </tbody>\n",
       "</table>\n",
       "</div>"
      ],
      "text/plain": [
       "               median    mad  eti_2.5%  eti_97.5%\n",
       "MuBeta          7.932  0.160     7.465      8.420\n",
       "Zeta[age]       0.883  0.266     0.105      1.653\n",
       "Zeta[size]     -0.670  0.232    -1.363      0.004\n",
       "Zeta[nodes]    -1.804  0.203    -2.370     -1.207\n",
       "Zeta[prog]      2.211  0.449     0.967      3.653\n",
       "Zeta[oest]     -0.161  0.250    -0.860      0.566\n",
       "Zeta[treat_1]   0.214  0.071     0.014      0.424\n",
       "Zeta[men_2]    -0.348  0.091    -0.626     -0.060\n",
       "Zeta[grade_2]  -0.222  0.118    -0.577      0.106\n",
       "Zeta[grade_3]  -0.408  0.129    -0.793     -0.050\n",
       "MuAlpha         0.328  0.041     0.213      0.443\n",
       "Alpha           1.388  0.057     1.237      1.557"
      ]
     },
     "execution_count": 26,
     "metadata": {},
     "output_type": "execute_result"
    }
   ],
   "source": [
    "Summary[Summary.index.str.startswith((\"MuAlpha\", \"Alpha\", \"MuBeta\", \"Zeta\"))]"
   ]
  },
  {
   "cell_type": "markdown",
   "metadata": {},
   "source": [
    "Add the median time as the predicted time for the testing data, and calculate the RMSE."
   ]
  },
  {
   "cell_type": "code",
   "execution_count": 27,
   "metadata": {},
   "outputs": [
    {
     "data": {
      "text/plain": [
       "(1308.6665, np.float64(0.5926))"
      ]
     },
     "execution_count": 27,
     "metadata": {},
     "output_type": "execute_result"
    }
   ],
   "source": [
    "DatTesting[\"PredictedTime_Lifelines\"] = WeibAFTModel.predict_median(DatTesting)\n",
    "\n",
    "RmseLifelines = round(root_mean_squared_error(DatTesting[\"time\"], DatTesting[\"PredictedTime_Lifelines\"]), 4)\n",
    "CIndexLifelines = round(concordance_index(DatTesting[\"time\"], DatTesting[\"PredictedTime_Lifelines\"]), 4)\n",
    "\n",
    "RmseLifelines, CIndexLifelines"
   ]
  },
  {
   "cell_type": "code",
   "execution_count": 32,
   "metadata": {},
   "outputs": [
    {
     "data": {
      "text/plain": [
       "611    1567.056323\n",
       "612    1338.072315\n",
       "613    2052.077466\n",
       "614    2327.880797\n",
       "615    1761.539735\n",
       "          ...     \n",
       "681    1752.604452\n",
       "682    1634.592051\n",
       "683    1597.151470\n",
       "684    2014.943134\n",
       "685    1686.094670\n",
       "Name: PredictedTime_Lifelines, Length: 75, dtype: float64"
      ]
     },
     "execution_count": 32,
     "metadata": {},
     "output_type": "execute_result"
    }
   ],
   "source": [
    "DatTesting[\"PredictedTime_Lifelines\"]"
   ]
  },
  {
   "cell_type": "markdown",
   "metadata": {},
   "source": [
    "Plot the risk adjusted survivor function, and compare it with the KM estimate fit with the training data"
   ]
  },
  {
   "cell_type": "code",
   "execution_count": 28,
   "metadata": {},
   "outputs": [],
   "source": [
    "SurvivalRiskAdjusted = pd.DataFrame(WeibAFTModel.predict_survival_function(DatTraining).mean(axis=1), columns=[\"Prob\"])"
   ]
  },
  {
   "cell_type": "code",
   "execution_count": 29,
   "metadata": {},
   "outputs": [
    {
     "data": {
      "image/png": "[encoded data removed]",
      "text/plain": [
       "<Figure size 550x500 with 1 Axes>"
      ]
     },
     "metadata": {},
     "output_type": "display_data"
    }
   ],
   "source": [
    "f, ax = plt.subplots(1, 1, figsize=(5.5,5), sharex=True, sharey=True)\n",
    "\n",
    "ax.plot(\n",
    "    SurvivalRiskAdjusted.index,\n",
    "    SurvivalRiskAdjusted[\"Prob\"],\n",
    "    color='rebeccapurple',\n",
    "    label=\"WeibullAFT_estimate\"\n",
    ")\n",
    "\n",
    "KM.plot_survival_function(color=mpl.colormaps['tab10'].colors[1])\n",
    "\n",
    "#ax.get_legend().remove()\n",
    "ax.legend()\n",
    "ax.set_xlabel(\"Time\")\n",
    "ax.set_ylabel(\"Survivor function\")\n",
    "#ax.set_title(\"Weibull proportional hazards\")\n",
    "ax.spines[['right', 'top']].set_visible(False)"
   ]
  },
  {
   "cell_type": "markdown",
   "metadata": {},
   "source": [
    "### Compare the result from lifelines"
   ]
  },
  {
   "cell_type": "code",
   "execution_count": 30,
   "metadata": {},
   "outputs": [
    {
     "name": "stdout",
     "output_type": "stream",
     "text": [
      "Here is the result from WeibullAFT Model using Bayesian approach\n",
      "RMSE: 1191.63\n",
      "Concordance Index: 0.611\n",
      "\n",
      "Here is the result from WeibullAFT Model\n",
      "RMSE: 1308.67\n",
      "Concordance Index: 0.593\n"
     ]
    }
   ],
   "source": [
    "print(\"Here is the result from WeibullAFT Model using Bayesian approach\")\n",
    "print(f\"RMSE: {RmseBayesian:.2f}\")\n",
    "print(f\"Concordance Index: {CIndexBayesian:.3f}\\n\")\n",
    "\n",
    "print(\"Here is the result from WeibullAFT Model\")\n",
    "print(f\"RMSE: {RmseLifelines:.2f}\")\n",
    "print(f\"Concordance Index: {CIndexLifelines:.3f}\")"
   ]
  },
  {
   "cell_type": "code",
   "execution_count": null,
   "metadata": {},
   "outputs": [],
   "source": []
  }
 ],
 "metadata": {
  "kernelspec": {
   "display_name": "Python 3 (ipykernel)",
   "language": "python",
   "name": "python3"
  },
  "language_info": {
   "codemirror_mode": {
    "name": "ipython",
    "version": 3
   },
   "file_extension": ".py",
   "mimetype": "text/x-python",
   "name": "python",
   "nbconvert_exporter": "python",
   "pygments_lexer": "ipython3",
   "version": "3.13.2"
  }
 },
 "nbformat": 4,
 "nbformat_minor": 4
}
