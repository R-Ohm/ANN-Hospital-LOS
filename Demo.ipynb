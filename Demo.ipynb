{
 "cells": [
  {
   "cell_type": "code",
   "execution_count": null,
   "id": "a9ff68e7-ede7-477e-a7b0-b3973c22a902",
   "metadata": {},
   "outputs": [],
   "source": [
    "import numpy as np\n",
    "import pandas as pd\n",
    "import matplotlib.pyplot as plt\n",
    "from lifelines import KaplanMeierFitter"
   ]
  },
  {
   "cell_type": "code",
   "execution_count": null,
   "id": "b6a70c46-e90b-47ac-a6fc-01521e57e784",
   "metadata": {},
   "outputs": [],
   "source": [
    "data = pd.DataFrame({\n",
    "    'time': [2, 5, 10, 6, 8, 15, 20, 25, 30, 35],\n",
    "    'event': [1, 1, 1, 1, 1, 0, 1, 1, 1, 1]  # 1 = event occurred, 0 = censored\n",
    "})\n"
   ]
  },
  {
   "cell_type": "code",
   "execution_count": null,
   "id": "40bc374b-b8d4-49a4-bac7-e2de917d2ef4",
   "metadata": {},
   "outputs": [],
   "source": [
    "kmf = KaplanMeierFitter()\n",
    "kmf.fit(data['time'], event_observed=data['event'])\n"
   ]
  },
  {
   "cell_type": "code",
   "execution_count": null,
   "id": "1447de4a-876b-42b4-99ce-9df45df42f91",
   "metadata": {},
   "outputs": [],
   "source": [
    "time_points = kmf.survival_function_.index\n",
    "survival_probs = kmf.survival_function_['KM_estimate']\n",
    "log_log_survival = np.log(-np.log(survival_probs))\n",
    "log_time = np.log(time_points)\n"
   ]
  },
  {
   "cell_type": "code",
   "execution_count": null,
   "id": "10237ce3-9071-45e5-baf5-3677e4df1876",
   "metadata": {},
   "outputs": [],
   "source": [
    "plt.figure(figsize=(10, 6))\n",
    "plt.plot(log_time, log_log_survival, marker='o', linestyle='-', color='blue')\n",
    "plt.title('Weibull Probability Plot (Log-Log of Survival vs. Log Time)')\n",
    "plt.xlabel('log(T)')\n",
    "plt.ylabel('log(-log(S(t)))')\n",
    "plt.grid(True)\n",
    "plt.show()\n"
   ]
  },
  {
   "cell_type": "code",
   "execution_count": null,
   "id": "ba50dc45-e837-4adf-b22b-43305752f57e",
   "metadata": {},
   "outputs": [],
   "source": []
  }
 ],
 "metadata": {
  "kernelspec": {
   "display_name": "Python 3 (ipykernel)",
   "language": "python",
   "name": "python3"
  },
  "language_info": {
   "codemirror_mode": {
    "name": "ipython",
    "version": 3
   },
   "file_extension": ".py",
   "mimetype": "text/x-python",
   "name": "python",
   "nbconvert_exporter": "python",
   "pygments_lexer": "ipython3",
   "version": "3.9.18"
  }
 },
 "nbformat": 4,
 "nbformat_minor": 5
}
