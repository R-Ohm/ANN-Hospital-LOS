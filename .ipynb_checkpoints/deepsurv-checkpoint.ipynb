{
 "cells": [
  {
   "cell_type": "markdown",
   "metadata": {},
   "source": [
    "# Cox-PH and DeepSurv\n",
    "\n",
    "In this notebook we will train the [Cox-PH method](http://jmlr.org/papers/volume20/18-424/18-424.pdf), also known as [DeepSurv](https://bmcmedresmethodol.biomedcentral.com/articles/10.1186/s12874-018-0482-1).\n",
    "We will use the METABRIC data sets as an example\n",
    "\n",
    "A more detailed introduction to the `pycox` package can be found in [this notebook](https://nbviewer.jupyter.org/github/havakv/pycox/blob/master/examples/01_introduction.ipynb) about the `LogisticHazard` method.\n",
    "\n",
    "The main benefit Cox-CC (and the other Cox methods) has over Logistic-Hazard is that it is a continuous-time method, meaning we do not need to discretize the time scale."
   ]
  },
  {
   "cell_type": "code",
   "execution_count": 1,
   "metadata": {},
   "outputs": [],
   "source": [
    "import numpy as np\n",
    "import matplotlib.pyplot as plt\n",
    "import torch\n",
    "import torchtuples as tt\n",
    "import pandas as pd\n",
    "import os\n",
    "import pickle\n",
    "\n",
    "from sklearn.preprocessing import StandardScaler\n",
    "from sklearn_pandas import DataFrameMapper\n",
    "from sklearn.preprocessing import MinMaxScaler\n",
    "from pycox.datasets import metabric\n",
    "from pycox.models import CoxPH\n",
    "from pycox.evaluation import EvalSurv\n",
    "from datetime import datetime\n",
    "from sklearn.metrics import mean_squared_error"
   ]
  },
  {
   "cell_type": "code",
   "execution_count": 2,
   "metadata": {},
   "outputs": [],
   "source": [
    "## Uncomment to install `sklearn-pandas`\n",
    "# ! pip install sklearn-pandas"
   ]
  },
  {
   "cell_type": "code",
   "execution_count": 3,
   "metadata": {},
   "outputs": [],
   "source": [
    "np.random.seed(1234)\n",
    "_ = torch.manual_seed(123)"
   ]
  },
  {
   "cell_type": "markdown",
   "metadata": {},
   "source": [
    "## Dataset\n",
    "\n",
    "We load the METABRIC data set and split in train, test and validation."
   ]
  },
  {
   "cell_type": "markdown",
   "metadata": {},
   "source": [
    "## Feature transforms\n",
    "We have 9 covariates, in addition to the durations and event indicators.\n",
    "\n",
    "We will standardize the 5 numerical covariates, and leave the binary variables as is. As variables needs to be of type `'float32'`, as this is required by pytorch."
   ]
  },
  {
   "cell_type": "code",
   "execution_count": 4,
   "metadata": {},
   "outputs": [],
   "source": [
    "# Load dataset\n",
    "data = pd.read_csv(\"data/Recurrence free survival in breast cancer patients.csv\")\n",
    "\n",
    "# Define column types\n",
    "CONTINUOUS_VARIABLES = [\"age\", \"size\", \"nodes\", \"prog\", \"oest\"]\n",
    "CATEGORICAL_VARIABLES = [\"treat\", \"men\", \"grade\"]\n",
    "\n",
    "# Scale continuous variables\n",
    "# scaler = MinMaxScaler()\n",
    "# data[CONTINUOUS_VARIABLES] = scaler.fit_transform(data[CONTINUOUS_VARIABLES])\n",
    "\n",
    "# One-hot encode categorical variables\n",
    "data = pd.get_dummies(data, columns=CATEGORICAL_VARIABLES, drop_first=True)\n",
    "\n",
    "# Sort by status to isolate uncensored samples\n",
    "data = data.sort_values(\"status\").reset_index(drop=True)\n",
    "\n",
    "# Select last 100 uncensored rows for test set\n",
    "uncensored = data[data[\"status\"] == 1]\n",
    "df_test = uncensored.iloc[-75:]\n",
    "df_trainval = data.drop(df_test.index)\n",
    "\n",
    "# Sample 20% of training set for validation\n",
    "df_val = df_trainval.sample(frac=0.2, random_state=42)\n",
    "df_train = df_trainval.drop(df_val.index)\n",
    "\n",
    "# Define predictors after one-hot encoding\n",
    "PREDS = [\n",
    "    \"age\", \"size\", \"nodes\", \"prog\", \"oest\",\n",
    "    \"treat_1\", \"men_2\", \"grade_2\", \"grade_3\"\n",
    "]\n",
    "\n",
    "# Features (scaled, non scaled is commented out)\n",
    "# standardize = DataFrameMapper([\n",
    "#     ([\"age\"], StandardScaler()),\n",
    "#     ([\"size\"], StandardScaler()),\n",
    "#     ([\"nodes\"], StandardScaler()),\n",
    "#     ([\"prog\"], StandardScaler()),\n",
    "#     ([\"oest\"], StandardScaler()),\n",
    "#     ([\"treat_1\"], None),\n",
    "#     ([\"men_2\"], None),\n",
    "#     ([\"grade_2\"], None),\n",
    "#     ([\"grade_3\"], None)\n",
    "# ], df_out=True)\n",
    "\n",
    "# x_train = standardize.fit_transform(df_train).astype(\"float32\").values\n",
    "# x_val = standardize.transform(df_val).astype(\"float32\").values\n",
    "# x_test = standardize.transform(df_test).astype(\"float32\").values\n",
    "\n",
    "x_train = df_train[PREDS].astype(\"float32\").values\n",
    "x_val = df_val[PREDS].astype(\"float32\").values\n",
    "x_test = df_test[PREDS].astype(\"float32\").values\n",
    "\n",
    "# Targets\n",
    "get_target = lambda df: (df[\"time\"].astype(float).values, df[\"status\"].astype(bool).values)\n",
    "y_train = get_target(df_train)\n",
    "y_val = get_target(df_val)\n",
    "durations_test, events_test = get_target(df_test)\n",
    "val = x_val, y_val"
   ]
  },
  {
   "cell_type": "code",
   "execution_count": 5,
   "metadata": {},
   "outputs": [
    {
     "data": {
      "text/html": [
       "<div>\n",
       "<style scoped>\n",
       "    .dataframe tbody tr th:only-of-type {\n",
       "        vertical-align: middle;\n",
       "    }\n",
       "\n",
       "    .dataframe tbody tr th {\n",
       "        vertical-align: top;\n",
       "    }\n",
       "\n",
       "    .dataframe thead th {\n",
       "        text-align: right;\n",
       "    }\n",
       "</style>\n",
       "<table border=\"1\" class=\"dataframe\">\n",
       "  <thead>\n",
       "    <tr style=\"text-align: right;\">\n",
       "      <th></th>\n",
       "      <th>age</th>\n",
       "      <th>size</th>\n",
       "      <th>nodes</th>\n",
       "      <th>prog</th>\n",
       "      <th>oest</th>\n",
       "      <th>treat_1</th>\n",
       "      <th>men_2</th>\n",
       "      <th>grade_2</th>\n",
       "      <th>grade_3</th>\n",
       "    </tr>\n",
       "  </thead>\n",
       "  <tbody>\n",
       "    <tr>\n",
       "      <th>611</th>\n",
       "      <td>48</td>\n",
       "      <td>22</td>\n",
       "      <td>4</td>\n",
       "      <td>14</td>\n",
       "      <td>0</td>\n",
       "      <td>False</td>\n",
       "      <td>True</td>\n",
       "      <td>True</td>\n",
       "      <td>False</td>\n",
       "    </tr>\n",
       "    <tr>\n",
       "      <th>612</th>\n",
       "      <td>52</td>\n",
       "      <td>35</td>\n",
       "      <td>1</td>\n",
       "      <td>8</td>\n",
       "      <td>5</td>\n",
       "      <td>False</td>\n",
       "      <td>True</td>\n",
       "      <td>False</td>\n",
       "      <td>True</td>\n",
       "    </tr>\n",
       "    <tr>\n",
       "      <th>613</th>\n",
       "      <td>60</td>\n",
       "      <td>21</td>\n",
       "      <td>1</td>\n",
       "      <td>58</td>\n",
       "      <td>701</td>\n",
       "      <td>False</td>\n",
       "      <td>True</td>\n",
       "      <td>True</td>\n",
       "      <td>False</td>\n",
       "    </tr>\n",
       "    <tr>\n",
       "      <th>614</th>\n",
       "      <td>48</td>\n",
       "      <td>35</td>\n",
       "      <td>10</td>\n",
       "      <td>2</td>\n",
       "      <td>222</td>\n",
       "      <td>False</td>\n",
       "      <td>False</td>\n",
       "      <td>False</td>\n",
       "      <td>True</td>\n",
       "    </tr>\n",
       "    <tr>\n",
       "      <th>615</th>\n",
       "      <td>59</td>\n",
       "      <td>27</td>\n",
       "      <td>20</td>\n",
       "      <td>9</td>\n",
       "      <td>2</td>\n",
       "      <td>False</td>\n",
       "      <td>True</td>\n",
       "      <td>False</td>\n",
       "      <td>True</td>\n",
       "    </tr>\n",
       "    <tr>\n",
       "      <th>...</th>\n",
       "      <td>...</td>\n",
       "      <td>...</td>\n",
       "      <td>...</td>\n",
       "      <td>...</td>\n",
       "      <td>...</td>\n",
       "      <td>...</td>\n",
       "      <td>...</td>\n",
       "      <td>...</td>\n",
       "      <td>...</td>\n",
       "    </tr>\n",
       "    <tr>\n",
       "      <th>681</th>\n",
       "      <td>68</td>\n",
       "      <td>14</td>\n",
       "      <td>6</td>\n",
       "      <td>40</td>\n",
       "      <td>68</td>\n",
       "      <td>True</td>\n",
       "      <td>True</td>\n",
       "      <td>True</td>\n",
       "      <td>False</td>\n",
       "    </tr>\n",
       "    <tr>\n",
       "      <th>682</th>\n",
       "      <td>64</td>\n",
       "      <td>24</td>\n",
       "      <td>2</td>\n",
       "      <td>41</td>\n",
       "      <td>80</td>\n",
       "      <td>False</td>\n",
       "      <td>True</td>\n",
       "      <td>True</td>\n",
       "      <td>False</td>\n",
       "    </tr>\n",
       "    <tr>\n",
       "      <th>683</th>\n",
       "      <td>58</td>\n",
       "      <td>56</td>\n",
       "      <td>11</td>\n",
       "      <td>51</td>\n",
       "      <td>50</td>\n",
       "      <td>True</td>\n",
       "      <td>True</td>\n",
       "      <td>False</td>\n",
       "      <td>False</td>\n",
       "    </tr>\n",
       "    <tr>\n",
       "      <th>684</th>\n",
       "      <td>51</td>\n",
       "      <td>34</td>\n",
       "      <td>3</td>\n",
       "      <td>13</td>\n",
       "      <td>12</td>\n",
       "      <td>True</td>\n",
       "      <td>False</td>\n",
       "      <td>True</td>\n",
       "      <td>False</td>\n",
       "    </tr>\n",
       "    <tr>\n",
       "      <th>685</th>\n",
       "      <td>55</td>\n",
       "      <td>23</td>\n",
       "      <td>9</td>\n",
       "      <td>116</td>\n",
       "      <td>15</td>\n",
       "      <td>False</td>\n",
       "      <td>True</td>\n",
       "      <td>True</td>\n",
       "      <td>False</td>\n",
       "    </tr>\n",
       "  </tbody>\n",
       "</table>\n",
       "<p>75 rows × 9 columns</p>\n",
       "</div>"
      ],
      "text/plain": [
       "     age  size  nodes  prog  oest  treat_1  men_2  grade_2  grade_3\n",
       "611   48    22      4    14     0    False   True     True    False\n",
       "612   52    35      1     8     5    False   True    False     True\n",
       "613   60    21      1    58   701    False   True     True    False\n",
       "614   48    35     10     2   222    False  False    False     True\n",
       "615   59    27     20     9     2    False   True    False     True\n",
       "..   ...   ...    ...   ...   ...      ...    ...      ...      ...\n",
       "681   68    14      6    40    68     True   True     True    False\n",
       "682   64    24      2    41    80    False   True     True    False\n",
       "683   58    56     11    51    50     True   True    False    False\n",
       "684   51    34      3    13    12     True  False     True    False\n",
       "685   55    23      9   116    15    False   True     True    False\n",
       "\n",
       "[75 rows x 9 columns]"
      ]
     },
     "execution_count": 5,
     "metadata": {},
     "output_type": "execute_result"
    }
   ],
   "source": [
    "df_test[PREDS]"
   ]
  },
  {
   "cell_type": "markdown",
   "metadata": {},
   "source": [
    "We need no label transforms"
   ]
  },
  {
   "cell_type": "markdown",
   "metadata": {},
   "source": [
    "## Neural net\n",
    "\n",
    "We create a simple MLP with two hidden layers, ReLU activations, batch norm and dropout. \n",
    "Here, we just use the `torchtuples.practical.MLPVanilla` net to do this.\n",
    "\n",
    "Note that we set `out_features` to 1, and that we have not `output_bias`."
   ]
  },
  {
   "cell_type": "code",
   "execution_count": 6,
   "metadata": {},
   "outputs": [],
   "source": [
    "in_features = x_train.shape[1]\n",
    "num_nodes = [32, 32]\n",
    "out_features = 1\n",
    "batch_norm = True\n",
    "dropout = 0.1\n",
    "output_bias = False\n",
    "\n",
    "net = tt.practical.MLPVanilla(in_features, num_nodes, out_features, batch_norm,\n",
    "                              dropout, output_bias=output_bias)"
   ]
  },
  {
   "cell_type": "markdown",
   "metadata": {},
   "source": [
    "## Training the model\n",
    "\n",
    "To train the model we need to define an optimizer. You can choose any `torch.optim` optimizer, but here we instead use one from `tt.optim` as it has some added functionality.\n",
    "We use the `Adam` optimizer, but instead of choosing a learning rate, we will use the scheme proposed by [Smith 2017](https://arxiv.org/pdf/1506.01186.pdf) to find a suitable learning rate with `model.lr_finder`. See [this post](https://towardsdatascience.com/finding-good-learning-rate-and-the-one-cycle-policy-7159fe1db5d6) for an explanation."
   ]
  },
  {
   "cell_type": "code",
   "execution_count": 7,
   "metadata": {},
   "outputs": [],
   "source": [
    "model = CoxPH(net, tt.optim.Adam)"
   ]
  },
  {
   "cell_type": "code",
   "execution_count": 8,
   "metadata": {},
   "outputs": [
    {
     "name": "stderr",
     "output_type": "stream",
     "text": [
      "/opt/miniconda3/lib/python3.9/site-packages/torchtuples/base.py:669: FutureWarning: You are using `torch.load` with `weights_only=False` (the current default value), which uses the default pickle module implicitly. It is possible to construct malicious pickle data which will execute arbitrary code during unpickling (See https://github.com/pytorch/pytorch/blob/main/SECURITY.md#untrusted-models for more details). In a future release, the default value for `weights_only` will be flipped to `True`. This limits the functions that could be executed during unpickling. Arbitrary objects will no longer be allowed to be loaded via this mode unless they are explicitly allowlisted by the user via `torch.serialization.add_safe_globals`. We recommend you start setting `weights_only=True` for any use case where you don't have full control of the loaded file. Please open an issue on GitHub for any issues related to this experimental feature.\n",
      "  self.net.load_state_dict(torch.load(path, **kwargs))\n"
     ]
    },
    {
     "data": {
      "image/png": "[encoded data removed]",
      "text/plain": [
       "<Figure size 640x480 with 1 Axes>"
      ]
     },
     "metadata": {},
     "output_type": "display_data"
    }
   ],
   "source": [
    "batch_size = 256\n",
    "lrfinder = model.lr_finder(x_train, y_train, batch_size, tolerance=10)\n",
    "_ = lrfinder.plot()"
   ]
  },
  {
   "cell_type": "code",
   "execution_count": 9,
   "metadata": {},
   "outputs": [
    {
     "data": {
      "text/plain": [
       "0.07390722033525823"
      ]
     },
     "execution_count": 9,
     "metadata": {},
     "output_type": "execute_result"
    }
   ],
   "source": [
    "lrfinder.get_best_lr()"
   ]
  },
  {
   "cell_type": "markdown",
   "metadata": {},
   "source": [
    "Often, this learning rate is a little high, so we instead set it manually to 0.01"
   ]
  },
  {
   "cell_type": "code",
   "execution_count": 10,
   "metadata": {},
   "outputs": [],
   "source": [
    "model.optimizer.set_lr(0.01)"
   ]
  },
  {
   "cell_type": "markdown",
   "metadata": {},
   "source": [
    "We include the `EarlyStopping` callback to stop training when the validation loss stops improving. After training, this callback will also load the best performing model in terms of validation loss."
   ]
  },
  {
   "cell_type": "code",
   "execution_count": 11,
   "metadata": {},
   "outputs": [],
   "source": [
    "epochs = 512\n",
    "callbacks = [tt.callbacks.EarlyStopping()]\n",
    "verbose = True"
   ]
  },
  {
   "cell_type": "code",
   "execution_count": 12,
   "metadata": {},
   "outputs": [
    {
     "name": "stdout",
     "output_type": "stream",
     "text": [
      "0:\t[0s / 0s],\t\ttrain_loss: 5.0791,\tval_loss: 4.2458\n",
      "1:\t[0s / 0s],\t\ttrain_loss: 4.9719,\tval_loss: 4.1724\n",
      "2:\t[0s / 0s],\t\ttrain_loss: 4.9446,\tval_loss: 4.1439\n",
      "3:\t[0s / 0s],\t\ttrain_loss: 4.9488,\tval_loss: 4.1467\n",
      "4:\t[0s / 0s],\t\ttrain_loss: 4.8951,\tval_loss: 4.1563\n",
      "5:\t[0s / 0s],\t\ttrain_loss: 4.8893,\tval_loss: 4.1462\n",
      "6:\t[0s / 0s],\t\ttrain_loss: 4.8505,\tval_loss: 4.1514\n",
      "7:\t[0s / 0s],\t\ttrain_loss: 4.8511,\tval_loss: 4.1573\n",
      "8:\t[0s / 0s],\t\ttrain_loss: 4.8406,\tval_loss: 4.1571\n",
      "9:\t[0s / 0s],\t\ttrain_loss: 4.8440,\tval_loss: 4.1600\n",
      "10:\t[0s / 0s],\t\ttrain_loss: 4.8338,\tval_loss: 4.1613\n",
      "11:\t[0s / 0s],\t\ttrain_loss: 4.8007,\tval_loss: 4.1607\n",
      "12:\t[0s / 0s],\t\ttrain_loss: 4.8070,\tval_loss: 4.1443\n",
      "CPU times: user 58.2 ms, sys: 23.6 ms, total: 81.8 ms\n",
      "Wall time: 76.4 ms\n"
     ]
    },
    {
     "name": "stderr",
     "output_type": "stream",
     "text": [
      "/opt/miniconda3/lib/python3.9/site-packages/torchtuples/base.py:669: FutureWarning: You are using `torch.load` with `weights_only=False` (the current default value), which uses the default pickle module implicitly. It is possible to construct malicious pickle data which will execute arbitrary code during unpickling (See https://github.com/pytorch/pytorch/blob/main/SECURITY.md#untrusted-models for more details). In a future release, the default value for `weights_only` will be flipped to `True`. This limits the functions that could be executed during unpickling. Arbitrary objects will no longer be allowed to be loaded via this mode unless they are explicitly allowlisted by the user via `torch.serialization.add_safe_globals`. We recommend you start setting `weights_only=True` for any use case where you don't have full control of the loaded file. Please open an issue on GitHub for any issues related to this experimental feature.\n",
      "  self.net.load_state_dict(torch.load(path, **kwargs))\n"
     ]
    }
   ],
   "source": [
    "%%time\n",
    "log = model.fit(x_train, y_train, batch_size, epochs, callbacks, verbose,\n",
    "                val_data=val, val_batch_size=batch_size)"
   ]
  },
  {
   "cell_type": "code",
   "execution_count": 13,
   "metadata": {},
   "outputs": [
    {
     "ename": "NameError",
     "evalue": "name 'X_train' is not defined",
     "output_type": "error",
     "traceback": [
      "\u001b[0;31m---------------------------------------------------------------------------\u001b[0m",
      "\u001b[0;31mNameError\u001b[0m                                 Traceback (most recent call last)",
      "Cell \u001b[0;32mIn[13], line 2\u001b[0m\n\u001b[1;32m      1\u001b[0m model\u001b[38;5;241m.\u001b[39mcompute_baseline_hazards(x_train, y_train)\n\u001b[0;32m----> 2\u001b[0m model\u001b[38;5;241m.\u001b[39mtraining_data \u001b[38;5;241m=\u001b[39m (\u001b[43mX_train\u001b[49m, y_train) \n",
      "\u001b[0;31mNameError\u001b[0m: name 'X_train' is not defined"
     ]
    }
   ],
   "source": [
    "model.compute_baseline_hazards(x_train, y_train)\n",
    "model.training_data = (x_train, y_train) "
   ]
  },
  {
   "cell_type": "code",
   "execution_count": null,
   "metadata": {
    "scrolled": true
   },
   "outputs": [],
   "source": [
    "#Pickle\n",
    "\n",
    "\n",
    "# Create 'pickle' directory if it doesn't exist\n",
    "os.makedirs('pickle', exist_ok=True)\n",
    "\n",
    "# Generate a unique filename using timestamp\n",
    "timestamp = datetime.now().strftime(\"%Y%m%d_%H%M%S\")\n",
    "filename = f\"deepsurv_model_{timestamp}.pkl\"\n",
    "filepath = os.path.join('pickle', filename)\n",
    "\n",
    "# Save model and components\n",
    "# Scaler commented out\n",
    "with open(filepath, 'wb') as f:\n",
    "    pickle.dump({\n",
    "        'model_state_dict': model.net.state_dict(),\n",
    "        'model_structure': model.net,\n",
    "        'baseline_hazards': model.baseline_hazards_.copy(),\n",
    "        'baseline_cumulative_hazards': model.baseline_cumulative_hazards_.copy()\n",
    "#       'scaler': standardize\n",
    "    }, f)\n",
    "\n",
    "print(f\"Model saved to {filepath}\")"
   ]
  },
  {
   "cell_type": "code",
   "execution_count": null,
   "metadata": {},
   "outputs": [],
   "source": [
    "_ = log.plot()"
   ]
  },
  {
   "cell_type": "markdown",
   "metadata": {},
   "source": [
    "We can get the partial log-likelihood"
   ]
  },
  {
   "cell_type": "code",
   "execution_count": null,
   "metadata": {},
   "outputs": [],
   "source": [
    "model.partial_log_likelihood(*val).mean()"
   ]
  },
  {
   "cell_type": "markdown",
   "metadata": {},
   "source": [
    "## Prediction\n",
    "\n",
    "For evaluation we first need to obtain survival estimates for the test set.\n",
    "This can be done with `model.predict_surv` which returns an array of survival estimates, or with `model.predict_surv_df` which returns the survival estimates as a dataframe.\n",
    "\n",
    "However, as `CoxPH` is semi-parametric, we first need to get the non-parametric baseline hazard estimates with `compute_baseline_hazards`. \n",
    "\n",
    "Note that for large datasets the `sample` argument can be used to estimate the baseline hazard on a subset."
   ]
  },
  {
   "cell_type": "code",
   "execution_count": null,
   "metadata": {},
   "outputs": [],
   "source": [
    "_ = model.compute_baseline_hazards()"
   ]
  },
  {
   "cell_type": "code",
   "execution_count": null,
   "metadata": {},
   "outputs": [],
   "source": [
    "surv = model.predict_surv_df(x_test)"
   ]
  },
  {
   "cell_type": "code",
   "execution_count": null,
   "metadata": {},
   "outputs": [],
   "source": [
    "surv.iloc[:, :10].plot()\n",
    "plt.ylabel('S(t | x)')\n",
    "_ = plt.xlabel('Time')"
   ]
  },
  {
   "cell_type": "markdown",
   "metadata": {},
   "source": [
    "## Evaluation\n",
    "\n",
    "We can use the `EvalSurv` class for evaluation the concordance, brier score and binomial log-likelihood. Setting `censor_surv='km'` means that we estimate the censoring distribution by Kaplan-Meier on the test set."
   ]
  },
  {
   "cell_type": "code",
   "execution_count": null,
   "metadata": {},
   "outputs": [],
   "source": [
    "ev = EvalSurv(surv, durations_test, events_test, censor_surv='km')"
   ]
  },
  {
   "cell_type": "code",
   "execution_count": null,
   "metadata": {},
   "outputs": [],
   "source": [
    "print(f\"Concordance: {ev.concordance_td():.3f}\")"
   ]
  },
  {
   "cell_type": "markdown",
   "metadata": {},
   "source": [
    "C-score without scaling: 0.642\n",
    "C-score with scaling: 0.583"
   ]
  },
  {
   "cell_type": "code",
   "execution_count": null,
   "metadata": {},
   "outputs": [],
   "source": [
    "time_grid = np.linspace(durations_test.min(), durations_test.max(), 100)\n",
    "_ = ev.brier_score(time_grid).plot()"
   ]
  },
  {
   "cell_type": "code",
   "execution_count": null,
   "metadata": {},
   "outputs": [],
   "source": [
    "ev.integrated_brier_score(time_grid)"
   ]
  },
  {
   "cell_type": "code",
   "execution_count": null,
   "metadata": {},
   "outputs": [],
   "source": [
    "ev.integrated_nbll(time_grid)"
   ]
  },
  {
   "cell_type": "code",
   "execution_count": null,
   "metadata": {},
   "outputs": [],
   "source": [
    "\n",
    "# Step 1: Predict survival functions using your trained DeepSurv model\n",
    "surv_df = model.predict_surv_df(x_test)\n",
    "\n",
    "# Step 2: Get time grid\n",
    "time_grid = surv_df.index.values\n",
    "\n",
    "# Step 3: Define function to get median survival time\n",
    "def get_median_time(surv_probs, times):\n",
    "    for s, t in zip(surv_probs, times):\n",
    "        if s <= 0.5:\n",
    "            return t\n",
    "    return times[-1]\n",
    "\n",
    "# Step 4: Compute predicted median survival times\n",
    "predicted_medians = []\n",
    "for i in range(surv_df.shape[1]):\n",
    "    surv_probs = surv_df.iloc[:, i].values\n",
    "    predicted_medians.append(get_median_time(surv_probs, time_grid))\n",
    "predicted_medians = np.array(predicted_medians)\n",
    "\n",
    "# Step 5: Use only uncensored test samples\n",
    "mask_uncensored = df_test[\"status\"] == 1\n",
    "observed_times = df_test.loc[mask_uncensored, \"time\"].values\n",
    "predicted_times = predicted_medians[mask_uncensored.values]\n",
    "\n",
    "# Step 6: Compute RMSE\n",
    "rmse = np.sqrt(mean_squared_error(observed_times, predicted_times))\n",
    "print(f\"DeepSurv Test RMSE: {rmse:.4f}\")"
   ]
  },
  {
   "cell_type": "code",
   "execution_count": null,
   "metadata": {},
   "outputs": [],
   "source": []
  }
 ],
 "metadata": {
  "kernelspec": {
   "display_name": "Python 3 (ipykernel)",
   "language": "python",
   "name": "python3"
  },
  "language_info": {
   "codemirror_mode": {
    "name": "ipython",
    "version": 3
   },
   "file_extension": ".py",
   "mimetype": "text/x-python",
   "name": "python",
   "nbconvert_exporter": "python",
   "pygments_lexer": "ipython3",
   "version": "3.9.18"
  }
 },
 "nbformat": 4,
 "nbformat_minor": 4
}
