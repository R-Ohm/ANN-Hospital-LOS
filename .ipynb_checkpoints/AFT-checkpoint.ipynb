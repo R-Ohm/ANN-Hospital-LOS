{
 "cells": [
  {
   "cell_type": "code",
   "execution_count": null,
   "id": "3ee95f3f-2e66-4a32-b2c8-f2e0fbd873ac",
   "metadata": {},
   "outputs": [],
   "source": [
    "!pip install pandas\n",
    "!pip install numpy\n",
    "!pip install lifelines"
   ]
  },
  {
   "cell_type": "code",
   "execution_count": null,
   "id": "fe059a74-e5bc-476c-9599-cc8b976b169c",
   "metadata": {},
   "outputs": [],
   "source": [
    "import pandas as pd\n",
    "import numpy as np\n",
    "import matplotlib.pyplot as plt\n",
    "from lifelines import ExponentialAFTFitter\n",
    "from lifelines.utils import concordance_index\n",
    "\n",
    "# Load your dataset\n",
    "data = pd.read_csv('/data/Recurrence free survival in breast cancer patients.csv')\n",
    "\n",
    "# Instantiate the ExponentialAFTFitter\n",
    "exp_aft_fitter = ExponentialAFTFitter()\n",
    "exp_aft_fitter.fit(data, duration_col='time', event_col='status')\n",
    "\n",
    "# Display the model summary\n",
    "exp_aft_fitter.print_summary()\n",
    "\n",
    "# Calculate the cumulative hazard only at the last observed time for each individual\n",
    "predicted_hazards = exp_aft_fitter.predict_cumulative_hazard(data).iloc[:, -1]  # Select last column only\n",
    "\n",
    "# Check for and filter out NaNs from predicted_hazards (if any)\n",
    "valid_idx = ~np.isnan(predicted_hazards)\n",
    "cleaned_times = data['time'][valid_idx]\n",
    "cleaned_status = data['status'][valid_idx]\n",
    "cleaned_hazards = predicted_hazards[valid_idx]\n",
    "\n",
    "# Calculate the C-index for model evaluation\n",
    "c_index = concordance_index(cleaned_times, -cleaned_hazards, cleaned_status)\n",
    "print(f\"C-index: {c_index}\")\n",
    "\n",
    "# Generate time points for plotting\n",
    "time_points = np.linspace(0, data['time'].max(), 100)\n",
    "\n",
    "# Predict survival function for a single observation (e.g., the first row of the dataset)\n",
    "survival_probs = exp_aft_fitter.predict_survival_function(data.iloc[0:1], times=time_points)\n",
    "\n",
    "# Plot the Survival Function\n",
    "plt.figure(figsize=(10, 6))\n",
    "plt.plot(time_points, survival_probs.iloc[:, 0], label='Exponential AFT Survival Function')\n",
    "plt.title('Survival Function (Exponential AFT Model)')\n",
    "plt.xlabel('Time')\n",
    "plt.ylabel('Survival Probability')\n",
    "plt.grid(True)\n",
    "plt.legend()\n",
    "plt.show()\n",
    "\n",
    "# Predict cumulative hazard function for a single observation (e.g., the first row of the dataset)\n",
    "cumulative_hazards = exp_aft_fitter.predict_cumulative_hazard(data.iloc[0:1], times=time_points)\n",
    "\n",
    "# Plot the Cumulative Hazard Function\n",
    "plt.figure(figsize=(10, 6))\n",
    "plt.plot(time_points, cumulative_hazards.iloc[:, 0], label=\"Exponential AFT Cumulative Hazard Function\")\n",
    "plt.title(\"Cumulative Hazard Function (Exponential AFT Model)\")\n",
    "plt.xlabel(\"Time\")\n",
    "plt.ylabel(\"Cumulative Hazard\")\n",
    "plt.grid(True)\n",
    "plt.legend()\n",
    "plt.show()"
   ]
  }
 ],
 "metadata": {
  "kernelspec": {
   "display_name": "Python 3 (ipykernel)",
   "language": "python",
   "name": "python3"
  },
  "language_info": {
   "codemirror_mode": {
    "name": "ipython",
    "version": 3
   },
   "file_extension": ".py",
   "mimetype": "text/x-python",
   "name": "python",
   "nbconvert_exporter": "python",
   "pygments_lexer": "ipython3",
   "version": "3.9.18"
  }
 },
 "nbformat": 4,
 "nbformat_minor": 5
}
