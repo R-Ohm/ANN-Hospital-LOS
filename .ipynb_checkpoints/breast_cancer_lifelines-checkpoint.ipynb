{
 "cells": [
  {
   "cell_type": "code",
   "execution_count": 2,
   "id": "9393dc3a-e800-440f-80dc-34450c5fc7ee",
   "metadata": {},
   "outputs": [
    {
     "data": {
      "text/html": [
       "<div>\n",
       "<style scoped>\n",
       "    .dataframe tbody tr th:only-of-type {\n",
       "        vertical-align: middle;\n",
       "    }\n",
       "\n",
       "    .dataframe tbody tr th {\n",
       "        vertical-align: top;\n",
       "    }\n",
       "\n",
       "    .dataframe thead th {\n",
       "        text-align: right;\n",
       "    }\n",
       "</style>\n",
       "<table border=\"1\" class=\"dataframe\">\n",
       "  <thead>\n",
       "    <tr style=\"text-align: right;\">\n",
       "      <th></th>\n",
       "      <th>id</th>\n",
       "      <th>treat</th>\n",
       "      <th>age</th>\n",
       "      <th>men</th>\n",
       "      <th>size</th>\n",
       "      <th>grade</th>\n",
       "      <th>nodes</th>\n",
       "      <th>prog</th>\n",
       "      <th>oest</th>\n",
       "      <th>time</th>\n",
       "      <th>status</th>\n",
       "    </tr>\n",
       "  </thead>\n",
       "  <tbody>\n",
       "    <tr>\n",
       "      <th>0</th>\n",
       "      <td>1</td>\n",
       "      <td>0</td>\n",
       "      <td>70</td>\n",
       "      <td>2</td>\n",
       "      <td>21</td>\n",
       "      <td>2</td>\n",
       "      <td>3</td>\n",
       "      <td>48</td>\n",
       "      <td>66</td>\n",
       "      <td>1814</td>\n",
       "      <td>1</td>\n",
       "    </tr>\n",
       "    <tr>\n",
       "      <th>1</th>\n",
       "      <td>2</td>\n",
       "      <td>1</td>\n",
       "      <td>56</td>\n",
       "      <td>2</td>\n",
       "      <td>12</td>\n",
       "      <td>2</td>\n",
       "      <td>7</td>\n",
       "      <td>61</td>\n",
       "      <td>77</td>\n",
       "      <td>2018</td>\n",
       "      <td>1</td>\n",
       "    </tr>\n",
       "    <tr>\n",
       "      <th>2</th>\n",
       "      <td>3</td>\n",
       "      <td>1</td>\n",
       "      <td>58</td>\n",
       "      <td>2</td>\n",
       "      <td>35</td>\n",
       "      <td>2</td>\n",
       "      <td>9</td>\n",
       "      <td>52</td>\n",
       "      <td>271</td>\n",
       "      <td>712</td>\n",
       "      <td>1</td>\n",
       "    </tr>\n",
       "    <tr>\n",
       "      <th>3</th>\n",
       "      <td>4</td>\n",
       "      <td>1</td>\n",
       "      <td>59</td>\n",
       "      <td>2</td>\n",
       "      <td>17</td>\n",
       "      <td>2</td>\n",
       "      <td>4</td>\n",
       "      <td>60</td>\n",
       "      <td>29</td>\n",
       "      <td>1807</td>\n",
       "      <td>1</td>\n",
       "    </tr>\n",
       "    <tr>\n",
       "      <th>4</th>\n",
       "      <td>5</td>\n",
       "      <td>0</td>\n",
       "      <td>73</td>\n",
       "      <td>2</td>\n",
       "      <td>35</td>\n",
       "      <td>2</td>\n",
       "      <td>1</td>\n",
       "      <td>26</td>\n",
       "      <td>65</td>\n",
       "      <td>772</td>\n",
       "      <td>1</td>\n",
       "    </tr>\n",
       "    <tr>\n",
       "      <th>...</th>\n",
       "      <td>...</td>\n",
       "      <td>...</td>\n",
       "      <td>...</td>\n",
       "      <td>...</td>\n",
       "      <td>...</td>\n",
       "      <td>...</td>\n",
       "      <td>...</td>\n",
       "      <td>...</td>\n",
       "      <td>...</td>\n",
       "      <td>...</td>\n",
       "      <td>...</td>\n",
       "    </tr>\n",
       "    <tr>\n",
       "      <th>681</th>\n",
       "      <td>682</td>\n",
       "      <td>0</td>\n",
       "      <td>49</td>\n",
       "      <td>1</td>\n",
       "      <td>30</td>\n",
       "      <td>3</td>\n",
       "      <td>3</td>\n",
       "      <td>1</td>\n",
       "      <td>84</td>\n",
       "      <td>721</td>\n",
       "      <td>0</td>\n",
       "    </tr>\n",
       "    <tr>\n",
       "      <th>682</th>\n",
       "      <td>683</td>\n",
       "      <td>1</td>\n",
       "      <td>53</td>\n",
       "      <td>2</td>\n",
       "      <td>25</td>\n",
       "      <td>3</td>\n",
       "      <td>17</td>\n",
       "      <td>0</td>\n",
       "      <td>0</td>\n",
       "      <td>186</td>\n",
       "      <td>0</td>\n",
       "    </tr>\n",
       "    <tr>\n",
       "      <th>683</th>\n",
       "      <td>684</td>\n",
       "      <td>0</td>\n",
       "      <td>51</td>\n",
       "      <td>1</td>\n",
       "      <td>25</td>\n",
       "      <td>3</td>\n",
       "      <td>5</td>\n",
       "      <td>43</td>\n",
       "      <td>0</td>\n",
       "      <td>769</td>\n",
       "      <td>1</td>\n",
       "    </tr>\n",
       "    <tr>\n",
       "      <th>684</th>\n",
       "      <td>685</td>\n",
       "      <td>0</td>\n",
       "      <td>52</td>\n",
       "      <td>2</td>\n",
       "      <td>23</td>\n",
       "      <td>2</td>\n",
       "      <td>3</td>\n",
       "      <td>15</td>\n",
       "      <td>34</td>\n",
       "      <td>727</td>\n",
       "      <td>1</td>\n",
       "    </tr>\n",
       "    <tr>\n",
       "      <th>685</th>\n",
       "      <td>686</td>\n",
       "      <td>0</td>\n",
       "      <td>55</td>\n",
       "      <td>2</td>\n",
       "      <td>23</td>\n",
       "      <td>2</td>\n",
       "      <td>9</td>\n",
       "      <td>116</td>\n",
       "      <td>15</td>\n",
       "      <td>1701</td>\n",
       "      <td>1</td>\n",
       "    </tr>\n",
       "  </tbody>\n",
       "</table>\n",
       "<p>686 rows × 11 columns</p>\n",
       "</div>"
      ],
      "text/plain": [
       "      id  treat  age  men  size  grade  nodes  prog  oest  time  status\n",
       "0      1      0   70    2    21      2      3    48    66  1814       1\n",
       "1      2      1   56    2    12      2      7    61    77  2018       1\n",
       "2      3      1   58    2    35      2      9    52   271   712       1\n",
       "3      4      1   59    2    17      2      4    60    29  1807       1\n",
       "4      5      0   73    2    35      2      1    26    65   772       1\n",
       "..   ...    ...  ...  ...   ...    ...    ...   ...   ...   ...     ...\n",
       "681  682      0   49    1    30      3      3     1    84   721       0\n",
       "682  683      1   53    2    25      3     17     0     0   186       0\n",
       "683  684      0   51    1    25      3      5    43     0   769       1\n",
       "684  685      0   52    2    23      2      3    15    34   727       1\n",
       "685  686      0   55    2    23      2      9   116    15  1701       1\n",
       "\n",
       "[686 rows x 11 columns]"
      ]
     },
     "execution_count": 2,
     "metadata": {},
     "output_type": "execute_result"
    }
   ],
   "source": [
    "import pandas as pd\n",
    "df = pd.read_csv('data/Recurrence free survival in breast cancer patients.csv')\n",
    "df"
   ]
  },
  {
   "cell_type": "code",
   "execution_count": 3,
   "id": "d83c1274-6cac-4cf0-9c7b-86a8d123a5f8",
   "metadata": {},
   "outputs": [
    {
     "ename": "NameError",
     "evalue": "name 'DatOriginal' is not defined",
     "output_type": "error",
     "traceback": [
      "\u001b[1;31m---------------------------------------------------------------------------\u001b[0m",
      "\u001b[1;31mNameError\u001b[0m                                 Traceback (most recent call last)",
      "Cell \u001b[1;32mIn[3], line 1\u001b[0m\n\u001b[1;32m----> 1\u001b[0m DatOriginal \u001b[38;5;241m=\u001b[39m DatOriginal\u001b[38;5;241m.\u001b[39msort_values(\u001b[38;5;124m\"\u001b[39m\u001b[38;5;124mstatus\u001b[39m\u001b[38;5;124m\"\u001b[39m)\u001b[38;5;241m.\u001b[39mreset_index(drop\u001b[38;5;241m=\u001b[39m\u001b[38;5;28;01mTrue\u001b[39;00m)\n",
      "\u001b[1;31mNameError\u001b[0m: name 'DatOriginal' is not defined"
     ]
    }
   ],
   "source": [
    "DatOriginal = DatOriginal.sort_values(\"status\").reset_index(drop=True)"
   ]
  },
  {
   "cell_type": "code",
   "execution_count": null,
   "id": "779ef5bd-9568-4bb3-921c-55f34f513f37",
   "metadata": {},
   "outputs": [],
   "source": [
    "from lifelines import KaplanMeierFitter\n",
    "kmf = KaplanMeierFitter()\n",
    "kmf.fit(df['time'], event_observed=df['status'])\n",
    "kmf.survival_function_"
   ]
  },
  {
   "cell_type": "code",
   "execution_count": null,
   "id": "a545cead-8849-4b37-839b-a9cd88df46cd",
   "metadata": {},
   "outputs": [],
   "source": [
    "kmf.plot_survival_function()"
   ]
  },
  {
   "cell_type": "code",
   "execution_count": null,
   "id": "db401d98-a741-4b45-ab37-7dcd87bf84fa",
   "metadata": {},
   "outputs": [],
   "source": [
    "from lifelines import NelsonAalenFitter\n",
    "naf = NelsonAalenFitter(nelson_aalen_smoothing=False)\n",
    "naf.fit(df['time'], event_observed=df['status'])\n",
    "naf.cumulative_hazard_"
   ]
  },
  {
   "cell_type": "code",
   "execution_count": null,
   "id": "ec3c339e-2fac-4a07-8cfb-7ce91fafc8ca",
   "metadata": {},
   "outputs": [],
   "source": [
    "naf.plot_cumulative_hazard()"
   ]
  },
  {
   "cell_type": "code",
   "execution_count": null,
   "id": "8434e395-5164-49c8-9136-9d1304b5debe",
   "metadata": {},
   "outputs": [],
   "source": [
    "from lifelines import ExponentialFitter\n",
    "exf = ExponentialFitter().fit(df['time'], df['status'])\n",
    "exf.plot_survival_function(label='ExponentialFitter survival')\n",
    "exf.plot_cumulative_hazard(label='ExponentialFitter cumulative hazard')"
   ]
  },
  {
   "cell_type": "code",
   "execution_count": null,
   "id": "47f0fefb-8b06-439c-9838-a4e9f3e3244d",
   "metadata": {},
   "outputs": [],
   "source": [
    "from lifelines import WeibullFitter\n",
    "wbf = WeibullFitter().fit(df['time'], df['status'], label='WeibullFitter')\n",
    "wbf.plot_survival_function(label='WeibullFitter survival')\n",
    "wbf.plot_cumulative_hazard(label='WeibullFitter cumulative hazard')"
   ]
  },
  {
   "cell_type": "code",
   "execution_count": null,
   "id": "8df949c9-4a1f-4671-8c86-b1ae1b499f97",
   "metadata": {},
   "outputs": [],
   "source": [
    "kmf.plot_survival_function()\n",
    "exf.plot_survival_function(label='ExponentialFitter survival')\n",
    "wbf.plot_survival_function(label='WeibullFitter survival')"
   ]
  },
  {
   "cell_type": "code",
   "execution_count": null,
   "id": "88158288-9161-4a70-8184-3448cc83e205",
   "metadata": {},
   "outputs": [],
   "source": [
    "print('Exponential model: ', exf.AIC_)\n",
    "print('Weibull model: ', wbf.AIC_)"
   ]
  },
  {
   "cell_type": "code",
   "execution_count": null,
   "id": "6beb5397-9fdc-427e-974b-880fe4e3355f",
   "metadata": {},
   "outputs": [],
   "source": [
    "from lifelines import CoxPHFitter\n",
    "cph = CoxPHFitter()\n",
    "cph.fit(df[['id', 'treat', 'age', 'men', 'size', 'grade', 'nodes', 'prog', 'oest', 'time', 'status']], duration_col='time', event_col='status')\n",
    "cph.print_summary(3)\n",
    "cph.plot()"
   ]
  },
  {
   "cell_type": "code",
   "execution_count": null,
   "id": "dd1f2be8-6825-46b4-b23e-5963d3cb3943",
   "metadata": {},
   "outputs": [],
   "source": [
    "cph.predict_survival_function(df.iloc[:10]).plot()"
   ]
  },
  {
   "cell_type": "code",
   "execution_count": null,
   "id": "45945713-2609-49ff-b8f4-477ba7dcaf81",
   "metadata": {},
   "outputs": [],
   "source": [
    "cph.predict_expectation(df)"
   ]
  },
  {
   "cell_type": "code",
   "execution_count": null,
   "id": "7e3d4fa6-3049-4804-950d-1ad9c4a1bbde",
   "metadata": {},
   "outputs": [],
   "source": [
    "cph.predict_median(df)"
   ]
  },
  {
   "cell_type": "markdown",
   "id": "f843bc51-f47b-40ac-9e33-359b4d072aa2",
   "metadata": {},
   "source": [
    "# Weibull AFT"
   ]
  },
  {
   "cell_type": "code",
   "execution_count": null,
   "id": "0a979d19-f3ae-4eb1-b4d3-85175c640ca5",
   "metadata": {},
   "outputs": [],
   "source": [
    "from lifelines import WeibullAFTFitter\n",
    "weibull_aft = WeibullAFTFitter()\n",
    "weibull_aft.fit(df, duration_col='time', event_col='status')\n",
    "weibull_aft.print_summary(3)"
   ]
  },
  {
   "cell_type": "code",
   "execution_count": null,
   "id": "10385294-9dbf-4572-a6ba-bcbc68342d85",
   "metadata": {},
   "outputs": [],
   "source": [
    "print(weibull_aft.median_survival_time_)\n",
    "print(weibull_aft.mean_survival_time_)"
   ]
  },
  {
   "cell_type": "code",
   "execution_count": null,
   "id": "4bcd8017-87b3-4b19-97bf-c0ad20103581",
   "metadata": {},
   "outputs": [],
   "source": [
    "import matplotlib.pyplot as plt\n",
    "\n",
    "plt.subplots(figsize=(10, 6))\n",
    "weibull_aft.plot()"
   ]
  },
  {
   "cell_type": "code",
   "execution_count": null,
   "id": "3d79747e-7af5-4007-ae65-edbf09cd8735",
   "metadata": {},
   "outputs": [],
   "source": [
    "weibull_aft.predict_survival_function(df.iloc[:10]).plot()"
   ]
  },
  {
   "cell_type": "code",
   "execution_count": null,
   "id": "a878350a-2288-4c2c-821e-a106f86bcde4",
   "metadata": {
    "editable": true,
    "slideshow": {
     "slide_type": ""
    },
    "tags": []
   },
   "outputs": [],
   "source": []
  }
 ],
 "metadata": {
  "kernelspec": {
   "display_name": "Python 3 (ipykernel)",
   "language": "python",
   "name": "python3"
  },
  "language_info": {
   "codemirror_mode": {
    "name": "ipython",
    "version": 3
   },
   "file_extension": ".py",
   "mimetype": "text/x-python",
   "name": "python",
   "nbconvert_exporter": "python",
   "pygments_lexer": "ipython3",
   "version": "3.13.2"
  }
 },
 "nbformat": 4,
 "nbformat_minor": 5
}
