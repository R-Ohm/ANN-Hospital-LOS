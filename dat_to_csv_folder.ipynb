{
 "cells": [
  {
   "cell_type": "code",
   "execution_count": 1,
   "id": "6d596721-281a-41b6-809b-9b4feff2e63b",
   "metadata": {},
   "outputs": [
    {
     "name": "stdout",
     "output_type": "stream",
     "text": [
      "Conversion completed for all .dat files.\n"
     ]
    }
   ],
   "source": [
    "import os\n",
    "import csv\n",
    "\n",
    "# Set the directory containing the .dat files\n",
    "input_folder = 'data/more_data/'\n",
    "output_folder = 'data/more_data_csv'\n",
    "\n",
    "# Loop through all files in the specified folder\n",
    "for filename in os.listdir(input_folder):\n",
    "    # Check if the file has a .dat extension\n",
    "    if filename.endswith('.dat'):\n",
    "        # Define the full input and output file paths\n",
    "        input_path = os.path.join(input_folder, filename)\n",
    "        output_filename = filename.replace('.dat', '.csv')\n",
    "        output_path = os.path.join(output_folder, output_filename)\n",
    "        \n",
    "        # Open the .dat file in read mode\n",
    "        with open(input_path, 'r') as dat_file:\n",
    "            # Open the CSV file in write mode\n",
    "            with open(output_path, 'w', newline='') as csv_file:\n",
    "                csv_writer = csv.writer(csv_file)\n",
    "                \n",
    "                # Iterate through each line in the .dat file\n",
    "                for line in dat_file:\n",
    "                    # Split the line by the delimiter (assuming space here)\n",
    "                    row = line.strip().split()  # Modify delimiter if necessary\n",
    "                    \n",
    "                    # Write the row to the CSV file\n",
    "                    csv_writer.writerow(row)\n",
    "\n",
    "print(\"Conversion completed for all .dat files.\")\n"
   ]
  }
 ],
 "metadata": {
  "kernelspec": {
   "display_name": "Python 3 (ipykernel)",
   "language": "python",
   "name": "python3"
  },
  "language_info": {
   "codemirror_mode": {
    "name": "ipython",
    "version": 3
   },
   "file_extension": ".py",
   "mimetype": "text/x-python",
   "name": "python",
   "nbconvert_exporter": "python",
   "pygments_lexer": "ipython3",
   "version": "3.9.18"
  }
 },
 "nbformat": 4,
 "nbformat_minor": 5
}
